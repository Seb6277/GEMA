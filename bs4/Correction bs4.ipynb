{
 "cells": [
  {
   "cell_type": "code",
   "execution_count": 15,
   "id": "222633b5",
   "metadata": {},
   "outputs": [
    {
     "name": "stdout",
     "output_type": "stream",
     "text": [
      "Collecting tqdm\n",
      "  Using cached tqdm-4.62.3-py2.py3-none-any.whl (76 kB)\n",
      "Installing collected packages: tqdm\n",
      "Successfully installed tqdm-4.62.3\n"
     ]
    }
   ],
   "source": [
    "!pip install tqdm"
   ]
  },
  {
   "cell_type": "code",
   "execution_count": 16,
   "id": "8f1f12a9",
   "metadata": {},
   "outputs": [],
   "source": [
    "from bs4 import BeautifulSoup\n",
    "from urllib.request import urlopen\n",
    "import pandas\n",
    "from tqdm import tqdm"
   ]
  },
  {
   "cell_type": "markdown",
   "id": "e26b0b44",
   "metadata": {},
   "source": [
    "# Solution 'à l'arrache'"
   ]
  },
  {
   "cell_type": "code",
   "execution_count": 12,
   "id": "e897a8df",
   "metadata": {},
   "outputs": [],
   "source": [
    "def extract_page(url):\n",
    "    page_sc = urlopen(url)\n",
    "    soup = BeautifulSoup(page_sc, 'html.parser')\n",
    "    livre = soup.find_all(name = 'span', attrs={'itemprop': 'name'})\n",
    "    titre = []\n",
    "    auteur = []\n",
    "    rates = []\n",
    "    for i, element in enumerate(livre):\n",
    "        if i % 2 != 0:\n",
    "            auteur.append(element.text)\n",
    "        else:\n",
    "            titre.append(element.text)\n",
    "    rating = soup.find_all(name = 'span', attrs={'class': 'minirating'})\n",
    "    for el in rating:\n",
    "        if el.text.split(' ')[0] == 'really':\n",
    "            rates.append(el.text.split(' ')[3])\n",
    "        else:\n",
    "            rates.append(el.text.split(' ')[1])\n",
    "    return titre, auteur, rates"
   ]
  },
  {
   "cell_type": "code",
   "execution_count": 17,
   "id": "c9f90920",
   "metadata": {
    "scrolled": true
   },
   "outputs": [
    {
     "name": "stderr",
     "output_type": "stream",
     "text": [
      "100%|█████████████████████████████████████████| 100/100 [07:48<00:00,  4.69s/it]\n"
     ]
    }
   ],
   "source": [
    "global_title = []\n",
    "global_author = []\n",
    "global_rates = []\n",
    "\n",
    "url_base = 'https://www.goodreads.com/list/show/1.Best_Books_Ever'\n",
    "for i in tqdm(range(1,101)):\n",
    "    url_complete = url_base + '?page={}'.format(str(i))\n",
    "    titre, auteur, rates = extract_page(url_complete)\n",
    "    for title, author, rating in zip(titre, auteur, rates):\n",
    "        global_title.append(title)\n",
    "        global_author.append(author)\n",
    "        global_rates.append(rating)"
   ]
  },
  {
   "cell_type": "code",
   "execution_count": 19,
   "id": "513b8837",
   "metadata": {},
   "outputs": [],
   "source": [
    "dataframe = pandas.DataFrame(list(zip(global_title, global_author, global_rates)), columns=['Title', 'Author', 'Rate'])"
   ]
  },
  {
   "cell_type": "code",
   "execution_count": 20,
   "id": "3cd78305",
   "metadata": {},
   "outputs": [
    {
     "data": {
      "text/html": [
       "<div>\n",
       "<style scoped>\n",
       "    .dataframe tbody tr th:only-of-type {\n",
       "        vertical-align: middle;\n",
       "    }\n",
       "\n",
       "    .dataframe tbody tr th {\n",
       "        vertical-align: top;\n",
       "    }\n",
       "\n",
       "    .dataframe thead th {\n",
       "        text-align: right;\n",
       "    }\n",
       "</style>\n",
       "<table border=\"1\" class=\"dataframe\">\n",
       "  <thead>\n",
       "    <tr style=\"text-align: right;\">\n",
       "      <th></th>\n",
       "      <th>Title</th>\n",
       "      <th>Author</th>\n",
       "      <th>Rate</th>\n",
       "    </tr>\n",
       "  </thead>\n",
       "  <tbody>\n",
       "    <tr>\n",
       "      <th>0</th>\n",
       "      <td>The Hunger Games (The Hunger Games, #1)</td>\n",
       "      <td>Suzanne Collins</td>\n",
       "      <td>4.32</td>\n",
       "    </tr>\n",
       "    <tr>\n",
       "      <th>1</th>\n",
       "      <td>Harry Potter and the Order of the Phoenix (Har...</td>\n",
       "      <td>J.K. Rowling</td>\n",
       "      <td>4.50</td>\n",
       "    </tr>\n",
       "    <tr>\n",
       "      <th>2</th>\n",
       "      <td>To Kill a Mockingbird</td>\n",
       "      <td>Harper Lee</td>\n",
       "      <td>4.27</td>\n",
       "    </tr>\n",
       "    <tr>\n",
       "      <th>3</th>\n",
       "      <td>Pride and Prejudice</td>\n",
       "      <td>Jane Austen</td>\n",
       "      <td>4.27</td>\n",
       "    </tr>\n",
       "    <tr>\n",
       "      <th>4</th>\n",
       "      <td>Twilight (The Twilight Saga, #1)</td>\n",
       "      <td>Stephenie Meyer</td>\n",
       "      <td>3.62</td>\n",
       "    </tr>\n",
       "    <tr>\n",
       "      <th>...</th>\n",
       "      <td>...</td>\n",
       "      <td>...</td>\n",
       "      <td>...</td>\n",
       "    </tr>\n",
       "    <tr>\n",
       "      <th>9995</th>\n",
       "      <td>I Am Princess X</td>\n",
       "      <td>Cherie Priest</td>\n",
       "      <td>4.07</td>\n",
       "    </tr>\n",
       "    <tr>\n",
       "      <th>9996</th>\n",
       "      <td>Hate Notes</td>\n",
       "      <td>Vi Keeland</td>\n",
       "      <td>4.14</td>\n",
       "    </tr>\n",
       "    <tr>\n",
       "      <th>9997</th>\n",
       "      <td>The Know-It-All: One Man's Humble Quest to Bec...</td>\n",
       "      <td>A.J. Jacobs</td>\n",
       "      <td>3.74</td>\n",
       "    </tr>\n",
       "    <tr>\n",
       "      <th>9998</th>\n",
       "      <td>Twisted Pride (The Camorra Chronicles, #3)</td>\n",
       "      <td>Cora Reilly</td>\n",
       "      <td>4.25</td>\n",
       "    </tr>\n",
       "    <tr>\n",
       "      <th>9999</th>\n",
       "      <td>The Lost City of the Monkey God</td>\n",
       "      <td>Douglas Preston</td>\n",
       "      <td>3.91</td>\n",
       "    </tr>\n",
       "  </tbody>\n",
       "</table>\n",
       "<p>10000 rows × 3 columns</p>\n",
       "</div>"
      ],
      "text/plain": [
       "                                                  Title           Author  Rate\n",
       "0               The Hunger Games (The Hunger Games, #1)  Suzanne Collins  4.32\n",
       "1     Harry Potter and the Order of the Phoenix (Har...     J.K. Rowling  4.50\n",
       "2                                 To Kill a Mockingbird       Harper Lee  4.27\n",
       "3                                   Pride and Prejudice      Jane Austen  4.27\n",
       "4                      Twilight (The Twilight Saga, #1)  Stephenie Meyer  3.62\n",
       "...                                                 ...              ...   ...\n",
       "9995                                    I Am Princess X    Cherie Priest  4.07\n",
       "9996                                         Hate Notes       Vi Keeland  4.14\n",
       "9997  The Know-It-All: One Man's Humble Quest to Bec...      A.J. Jacobs  3.74\n",
       "9998         Twisted Pride (The Camorra Chronicles, #3)      Cora Reilly  4.25\n",
       "9999                    The Lost City of the Monkey God  Douglas Preston  3.91\n",
       "\n",
       "[10000 rows x 3 columns]"
      ]
     },
     "execution_count": 20,
     "metadata": {},
     "output_type": "execute_result"
    }
   ],
   "source": [
    "dataframe"
   ]
  },
  {
   "cell_type": "markdown",
   "id": "664845a6",
   "metadata": {},
   "source": [
    "c'est long oui :D"
   ]
  },
  {
   "cell_type": "markdown",
   "id": "205268bd",
   "metadata": {},
   "source": [
    "# Solution avec moins de variable\n",
    "Nous allons donner nos tableaux à la fonction afin qu'elle les alimente directement sans passer par un tableau intermédiaire que nous devons reparcourir"
   ]
  },
  {
   "cell_type": "code",
   "execution_count": 21,
   "id": "89c16f76",
   "metadata": {},
   "outputs": [],
   "source": [
    "def extract_page2(url, titre, auteur, rates):\n",
    "    page_sc = urlopen(url)\n",
    "    soup = BeautifulSoup(page_sc, 'html.parser')\n",
    "    livre = soup.find_all(name = 'span', attrs={'itemprop': 'name'})\n",
    "    for i, element in enumerate(livre):\n",
    "        if i % 2 != 0:\n",
    "            auteur.append(element.text)\n",
    "        else:\n",
    "            titre.append(element.text)\n",
    "    rating = soup.find_all(name = 'span', attrs={'class': 'minirating'})\n",
    "    for el in rating:\n",
    "        if el.text.split(' ')[0] == 'really':\n",
    "            rates.append(el.text.split(' ')[3])\n",
    "        else:\n",
    "            rates.append(el.text.split(' ')[1])"
   ]
  },
  {
   "cell_type": "code",
   "execution_count": 22,
   "id": "adb88d90",
   "metadata": {},
   "outputs": [
    {
     "name": "stderr",
     "output_type": "stream",
     "text": [
      "100%|█████████████████████████████████████████| 100/100 [08:14<00:00,  4.94s/it]\n"
     ]
    }
   ],
   "source": [
    "global_title = []\n",
    "global_author = []\n",
    "global_rates = []\n",
    "\n",
    "url_base = 'https://www.goodreads.com/list/show/1.Best_Books_Ever'\n",
    "for i in tqdm(range(1,101)):\n",
    "    url_complete = url_base + '?page={}'.format(str(i))\n",
    "    extract_page2(url_complete, global_title, global_author, global_rates)"
   ]
  },
  {
   "cell_type": "code",
   "execution_count": 23,
   "id": "2e578809",
   "metadata": {},
   "outputs": [],
   "source": [
    "dataframe2 = pandas.DataFrame(list(zip(global_title, global_author, global_rates)), columns=['Title', 'Author', 'Rate'])"
   ]
  },
  {
   "cell_type": "code",
   "execution_count": 32,
   "id": "3202a63e",
   "metadata": {},
   "outputs": [
    {
     "data": {
      "text/html": [
       "<div>\n",
       "<style scoped>\n",
       "    .dataframe tbody tr th:only-of-type {\n",
       "        vertical-align: middle;\n",
       "    }\n",
       "\n",
       "    .dataframe tbody tr th {\n",
       "        vertical-align: top;\n",
       "    }\n",
       "\n",
       "    .dataframe thead th {\n",
       "        text-align: right;\n",
       "    }\n",
       "</style>\n",
       "<table border=\"1\" class=\"dataframe\">\n",
       "  <thead>\n",
       "    <tr style=\"text-align: right;\">\n",
       "      <th></th>\n",
       "      <th>Title</th>\n",
       "      <th>Author</th>\n",
       "      <th>Rate</th>\n",
       "    </tr>\n",
       "  </thead>\n",
       "  <tbody>\n",
       "    <tr>\n",
       "      <th>0</th>\n",
       "      <td>The Hunger Games (The Hunger Games, #1)</td>\n",
       "      <td>Suzanne Collins</td>\n",
       "      <td>4.32</td>\n",
       "    </tr>\n",
       "    <tr>\n",
       "      <th>1</th>\n",
       "      <td>Harry Potter and the Order of the Phoenix (Har...</td>\n",
       "      <td>J.K. Rowling</td>\n",
       "      <td>4.50</td>\n",
       "    </tr>\n",
       "    <tr>\n",
       "      <th>2</th>\n",
       "      <td>To Kill a Mockingbird</td>\n",
       "      <td>Harper Lee</td>\n",
       "      <td>4.27</td>\n",
       "    </tr>\n",
       "    <tr>\n",
       "      <th>3</th>\n",
       "      <td>Pride and Prejudice</td>\n",
       "      <td>Jane Austen</td>\n",
       "      <td>4.27</td>\n",
       "    </tr>\n",
       "    <tr>\n",
       "      <th>4</th>\n",
       "      <td>Twilight (The Twilight Saga, #1)</td>\n",
       "      <td>Stephenie Meyer</td>\n",
       "      <td>3.62</td>\n",
       "    </tr>\n",
       "    <tr>\n",
       "      <th>...</th>\n",
       "      <td>...</td>\n",
       "      <td>...</td>\n",
       "      <td>...</td>\n",
       "    </tr>\n",
       "    <tr>\n",
       "      <th>9995</th>\n",
       "      <td>I Am Princess X</td>\n",
       "      <td>Cherie Priest</td>\n",
       "      <td>4.07</td>\n",
       "    </tr>\n",
       "    <tr>\n",
       "      <th>9996</th>\n",
       "      <td>Hate Notes</td>\n",
       "      <td>Vi Keeland</td>\n",
       "      <td>4.14</td>\n",
       "    </tr>\n",
       "    <tr>\n",
       "      <th>9997</th>\n",
       "      <td>The Know-It-All: One Man's Humble Quest to Bec...</td>\n",
       "      <td>A.J. Jacobs</td>\n",
       "      <td>3.74</td>\n",
       "    </tr>\n",
       "    <tr>\n",
       "      <th>9998</th>\n",
       "      <td>Twisted Pride (The Camorra Chronicles, #3)</td>\n",
       "      <td>Cora Reilly</td>\n",
       "      <td>4.25</td>\n",
       "    </tr>\n",
       "    <tr>\n",
       "      <th>9999</th>\n",
       "      <td>The Lost City of the Monkey God</td>\n",
       "      <td>Douglas Preston</td>\n",
       "      <td>3.91</td>\n",
       "    </tr>\n",
       "  </tbody>\n",
       "</table>\n",
       "<p>10000 rows × 3 columns</p>\n",
       "</div>"
      ],
      "text/plain": [
       "                                                  Title           Author  Rate\n",
       "0               The Hunger Games (The Hunger Games, #1)  Suzanne Collins  4.32\n",
       "1     Harry Potter and the Order of the Phoenix (Har...     J.K. Rowling  4.50\n",
       "2                                 To Kill a Mockingbird       Harper Lee  4.27\n",
       "3                                   Pride and Prejudice      Jane Austen  4.27\n",
       "4                      Twilight (The Twilight Saga, #1)  Stephenie Meyer  3.62\n",
       "...                                                 ...              ...   ...\n",
       "9995                                    I Am Princess X    Cherie Priest  4.07\n",
       "9996                                         Hate Notes       Vi Keeland  4.14\n",
       "9997  The Know-It-All: One Man's Humble Quest to Bec...      A.J. Jacobs  3.74\n",
       "9998         Twisted Pride (The Camorra Chronicles, #3)      Cora Reilly  4.25\n",
       "9999                    The Lost City of the Monkey God  Douglas Preston  3.91\n",
       "\n",
       "[10000 rows x 3 columns]"
      ]
     },
     "execution_count": 32,
     "metadata": {},
     "output_type": "execute_result"
    }
   ],
   "source": [
    "dataframe2"
   ]
  },
  {
   "cell_type": "markdown",
   "id": "672bf078",
   "metadata": {},
   "source": [
    "On remet à zéro pour la suite"
   ]
  },
  {
   "cell_type": "code",
   "execution_count": 25,
   "id": "b0c3c51e",
   "metadata": {},
   "outputs": [],
   "source": [
    "global_title = []\n",
    "global_author = []\n",
    "global_rates = []"
   ]
  },
  {
   "cell_type": "markdown",
   "id": "6c3f376b",
   "metadata": {},
   "source": [
    "# Solution plus maintenable et élégante ;)"
   ]
  },
  {
   "cell_type": "code",
   "execution_count": 42,
   "id": "a4a84dab",
   "metadata": {},
   "outputs": [],
   "source": [
    "class Scraper():\n",
    "    \n",
    "    def __init__(self):\n",
    "        self.url = None\n",
    "        self.page = None\n",
    "        self.soup = None\n",
    "        self.global_title = []\n",
    "        self.global_author = []\n",
    "        self.global_rates = []\n",
    "        \n",
    "    def set_url(self, url):\n",
    "        self.url = url\n",
    "        self.page = urlopen(url)\n",
    "        self.soup = BeautifulSoup(self.page, 'html.parser')\n",
    "        \n",
    "    def extract_author_title(self):\n",
    "        livre = self.soup.find_all(name = 'span', attrs={'itemprop': 'name'})\n",
    "        for i, element in enumerate(livre):\n",
    "            if i % 2 != 0:\n",
    "                self.global_author.append(element.text)\n",
    "            else:\n",
    "                self.global_title.append(element.text)\n",
    "    \n",
    "    def extract_ratings(self):\n",
    "        rating = self.soup.find_all(name = 'span', attrs={'class': 'minirating'})\n",
    "        for el in rating:\n",
    "            if el.text.split(' ')[0] == 'really':\n",
    "                self.global_rates.append(el.text.split(' ')[3])\n",
    "            else:\n",
    "                self.global_rates.append(el.text.split(' ')[1])\n",
    "                \n",
    "    def scrap(self):\n",
    "        self.extract_author_title()\n",
    "        self.extract_ratings()\n",
    "        \n",
    "    def get_dataframe(self):\n",
    "        df = pandas.DataFrame(list(zip(self.global_title, \n",
    "                                       self.global_author, \n",
    "                                       self.global_rates)), columns=['Title', 'Author', 'Rate'])\n",
    "        return df\n",
    "        "
   ]
  },
  {
   "cell_type": "code",
   "execution_count": 43,
   "id": "5b19d9f6",
   "metadata": {},
   "outputs": [
    {
     "name": "stderr",
     "output_type": "stream",
     "text": [
      "100%|█████████████████████████████████████████| 100/100 [08:18<00:00,  4.99s/it]\n"
     ]
    }
   ],
   "source": [
    "url_base = 'https://www.goodreads.com/list/show/1.Best_Books_Ever'\n",
    "\n",
    "scraper = Scraper()\n",
    "\n",
    "for i in tqdm(range(1,101)):\n",
    "    url_complete = url_base + '?page={}'.format(str(i))\n",
    "    scraper.set_url(url_complete)\n",
    "    scraper.scrap()\n",
    "    \n",
    "dataframe3 = scrapper.get_dataframe()\n"
   ]
  },
  {
   "cell_type": "code",
   "execution_count": 44,
   "id": "65da3e27",
   "metadata": {},
   "outputs": [
    {
     "data": {
      "text/html": [
       "<div>\n",
       "<style scoped>\n",
       "    .dataframe tbody tr th:only-of-type {\n",
       "        vertical-align: middle;\n",
       "    }\n",
       "\n",
       "    .dataframe tbody tr th {\n",
       "        vertical-align: top;\n",
       "    }\n",
       "\n",
       "    .dataframe thead th {\n",
       "        text-align: right;\n",
       "    }\n",
       "</style>\n",
       "<table border=\"1\" class=\"dataframe\">\n",
       "  <thead>\n",
       "    <tr style=\"text-align: right;\">\n",
       "      <th></th>\n",
       "      <th>Title</th>\n",
       "      <th>Author</th>\n",
       "      <th>Rate</th>\n",
       "    </tr>\n",
       "  </thead>\n",
       "  <tbody>\n",
       "    <tr>\n",
       "      <th>0</th>\n",
       "      <td>The Hunger Games (The Hunger Games, #1)</td>\n",
       "      <td>Suzanne Collins</td>\n",
       "      <td>4.32</td>\n",
       "    </tr>\n",
       "    <tr>\n",
       "      <th>1</th>\n",
       "      <td>Harry Potter and the Order of the Phoenix (Har...</td>\n",
       "      <td>J.K. Rowling</td>\n",
       "      <td>4.50</td>\n",
       "    </tr>\n",
       "    <tr>\n",
       "      <th>2</th>\n",
       "      <td>To Kill a Mockingbird</td>\n",
       "      <td>Harper Lee</td>\n",
       "      <td>4.27</td>\n",
       "    </tr>\n",
       "    <tr>\n",
       "      <th>3</th>\n",
       "      <td>Pride and Prejudice</td>\n",
       "      <td>Jane Austen</td>\n",
       "      <td>4.27</td>\n",
       "    </tr>\n",
       "    <tr>\n",
       "      <th>4</th>\n",
       "      <td>Twilight (The Twilight Saga, #1)</td>\n",
       "      <td>Stephenie Meyer</td>\n",
       "      <td>3.62</td>\n",
       "    </tr>\n",
       "    <tr>\n",
       "      <th>...</th>\n",
       "      <td>...</td>\n",
       "      <td>...</td>\n",
       "      <td>...</td>\n",
       "    </tr>\n",
       "    <tr>\n",
       "      <th>9995</th>\n",
       "      <td>I Am Princess X</td>\n",
       "      <td>Cherie Priest</td>\n",
       "      <td>4.07</td>\n",
       "    </tr>\n",
       "    <tr>\n",
       "      <th>9996</th>\n",
       "      <td>Hate Notes</td>\n",
       "      <td>Vi Keeland</td>\n",
       "      <td>4.14</td>\n",
       "    </tr>\n",
       "    <tr>\n",
       "      <th>9997</th>\n",
       "      <td>The Know-It-All: One Man's Humble Quest to Bec...</td>\n",
       "      <td>A.J. Jacobs</td>\n",
       "      <td>3.74</td>\n",
       "    </tr>\n",
       "    <tr>\n",
       "      <th>9998</th>\n",
       "      <td>Twisted Pride (The Camorra Chronicles, #3)</td>\n",
       "      <td>Cora Reilly</td>\n",
       "      <td>4.25</td>\n",
       "    </tr>\n",
       "    <tr>\n",
       "      <th>9999</th>\n",
       "      <td>The Lost City of the Monkey God</td>\n",
       "      <td>Douglas Preston</td>\n",
       "      <td>3.91</td>\n",
       "    </tr>\n",
       "  </tbody>\n",
       "</table>\n",
       "<p>10000 rows × 3 columns</p>\n",
       "</div>"
      ],
      "text/plain": [
       "                                                  Title           Author  Rate\n",
       "0               The Hunger Games (The Hunger Games, #1)  Suzanne Collins  4.32\n",
       "1     Harry Potter and the Order of the Phoenix (Har...     J.K. Rowling  4.50\n",
       "2                                 To Kill a Mockingbird       Harper Lee  4.27\n",
       "3                                   Pride and Prejudice      Jane Austen  4.27\n",
       "4                      Twilight (The Twilight Saga, #1)  Stephenie Meyer  3.62\n",
       "...                                                 ...              ...   ...\n",
       "9995                                    I Am Princess X    Cherie Priest  4.07\n",
       "9996                                         Hate Notes       Vi Keeland  4.14\n",
       "9997  The Know-It-All: One Man's Humble Quest to Bec...      A.J. Jacobs  3.74\n",
       "9998         Twisted Pride (The Camorra Chronicles, #3)      Cora Reilly  4.25\n",
       "9999                    The Lost City of the Monkey God  Douglas Preston  3.91\n",
       "\n",
       "[10000 rows x 3 columns]"
      ]
     },
     "execution_count": 44,
     "metadata": {},
     "output_type": "execute_result"
    }
   ],
   "source": [
    "dataframe3"
   ]
  },
  {
   "cell_type": "code",
   "execution_count": 45,
   "id": "c079c3b6",
   "metadata": {},
   "outputs": [],
   "source": [
    "dataframe3.to_csv('corrections.csv', index=False)"
   ]
  },
  {
   "cell_type": "code",
   "execution_count": null,
   "id": "a5f5add0",
   "metadata": {},
   "outputs": [],
   "source": []
  }
 ],
 "metadata": {
  "kernelspec": {
   "display_name": "Python 3 (ipykernel)",
   "language": "python",
   "name": "python3"
  },
  "language_info": {
   "codemirror_mode": {
    "name": "ipython",
    "version": 3
   },
   "file_extension": ".py",
   "mimetype": "text/x-python",
   "name": "python",
   "nbconvert_exporter": "python",
   "pygments_lexer": "ipython3",
   "version": "3.7.11"
  }
 },
 "nbformat": 4,
 "nbformat_minor": 5
}
