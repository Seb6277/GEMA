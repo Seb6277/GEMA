{
 "cells": [
  {
   "cell_type": "markdown",
   "id": "ce564fb5",
   "metadata": {},
   "source": [
    "## Installation"
   ]
  },
  {
   "cell_type": "code",
   "execution_count": 1,
   "id": "44da625f",
   "metadata": {},
   "outputs": [
    {
     "name": "stdout",
     "output_type": "stream",
     "text": [
      "Requirement already satisfied: bs4 in /home/seb/Projets/GEMA/env/lib/python3.7/site-packages (0.0.1)\n",
      "Requirement already satisfied: beautifulsoup4 in /home/seb/Projets/GEMA/env/lib/python3.7/site-packages (from bs4) (4.10.0)\n",
      "Requirement already satisfied: soupsieve>1.2 in /home/seb/Projets/GEMA/env/lib/python3.7/site-packages (from beautifulsoup4->bs4) (2.3.1)\n",
      "\u001b[33mWARNING: You are using pip version 21.3.1; however, version 22.0.2 is available.\n",
      "You should consider upgrading via the '/home/seb/Projets/GEMA/env/bin/python -m pip install --upgrade pip' command.\u001b[0m\n"
     ]
    }
   ],
   "source": [
    "!pip install bs4"
   ]
  },
  {
   "cell_type": "markdown",
   "id": "8d456101",
   "metadata": {},
   "source": [
    "## Import"
   ]
  },
  {
   "cell_type": "code",
   "execution_count": 2,
   "id": "203b8534",
   "metadata": {},
   "outputs": [],
   "source": [
    "from bs4 import BeautifulSoup"
   ]
  },
  {
   "cell_type": "code",
   "execution_count": 3,
   "id": "e718533c",
   "metadata": {},
   "outputs": [],
   "source": [
    "from urllib.request import urlopen\n",
    "import pandas"
   ]
  },
  {
   "cell_type": "markdown",
   "id": "c7225fb6",
   "metadata": {},
   "source": [
    "### Ici on rensigne la page cible"
   ]
  },
  {
   "cell_type": "code",
   "execution_count": 5,
   "id": "ec130c63",
   "metadata": {},
   "outputs": [],
   "source": [
    "page_sc = urlopen('https://www.goodreads.com/list/show/1.Best_Books_Ever')"
   ]
  },
  {
   "cell_type": "code",
   "execution_count": 6,
   "id": "9d1d4dd2",
   "metadata": {},
   "outputs": [],
   "source": [
    "soup = BeautifulSoup(page_sc, 'html.parser')"
   ]
  },
  {
   "cell_type": "code",
   "execution_count": 7,
   "id": "40d56db7",
   "metadata": {},
   "outputs": [],
   "source": [
    "livre = soup.find_all(name = 'span', attrs={'itemprop': 'name', 'role': 'heading'})"
   ]
  },
  {
   "cell_type": "code",
   "execution_count": 8,
   "id": "d2e1dd1d",
   "metadata": {},
   "outputs": [
    {
     "data": {
      "text/plain": [
       "[<span aria-level=\"4\" itemprop=\"name\" role=\"heading\">The Hunger Games (The Hunger Games, #1)</span>,\n",
       " <span aria-level=\"4\" itemprop=\"name\" role=\"heading\">Harry Potter and the Order of the Phoenix (Harry Potter, #5)</span>,\n",
       " <span aria-level=\"4\" itemprop=\"name\" role=\"heading\">To Kill a Mockingbird</span>,\n",
       " <span aria-level=\"4\" itemprop=\"name\" role=\"heading\">Pride and Prejudice</span>,\n",
       " <span aria-level=\"4\" itemprop=\"name\" role=\"heading\">Twilight (The Twilight Saga, #1)</span>,\n",
       " <span aria-level=\"4\" itemprop=\"name\" role=\"heading\">The Book Thief</span>,\n",
       " <span aria-level=\"4\" itemprop=\"name\" role=\"heading\">Animal Farm</span>,\n",
       " <span aria-level=\"4\" itemprop=\"name\" role=\"heading\">The Chronicles of Narnia (Chronicles of Narnia, #1-7)</span>,\n",
       " <span aria-level=\"4\" itemprop=\"name\" role=\"heading\">J.R.R. Tolkien 4-Book Boxed Set: The Hobbit and The Lord of the Rings</span>,\n",
       " <span aria-level=\"4\" itemprop=\"name\" role=\"heading\">The Fault in Our Stars</span>,\n",
       " <span aria-level=\"4\" itemprop=\"name\" role=\"heading\">Gone with the Wind</span>,\n",
       " <span aria-level=\"4\" itemprop=\"name\" role=\"heading\">The Hitchhiker's Guide to the Galaxy (Hitchhiker's Guide to the Galaxy, #1)</span>,\n",
       " <span aria-level=\"4\" itemprop=\"name\" role=\"heading\">The Giving Tree</span>,\n",
       " <span aria-level=\"4\" itemprop=\"name\" role=\"heading\">Wuthering Heights</span>,\n",
       " <span aria-level=\"4\" itemprop=\"name\" role=\"heading\">The Picture of Dorian Gray</span>,\n",
       " <span aria-level=\"4\" itemprop=\"name\" role=\"heading\">The Da Vinci Code (Robert Langdon, #2)</span>,\n",
       " <span aria-level=\"4\" itemprop=\"name\" role=\"heading\">Jane Eyre</span>,\n",
       " <span aria-level=\"4\" itemprop=\"name\" role=\"heading\">Memoirs of a Geisha</span>,\n",
       " <span aria-level=\"4\" itemprop=\"name\" role=\"heading\">Alice's Adventures in Wonderland / Through the Looking-Glass</span>,\n",
       " <span aria-level=\"4\" itemprop=\"name\" role=\"heading\">The Perks of Being a Wallflower</span>,\n",
       " <span aria-level=\"4\" itemprop=\"name\" role=\"heading\">Harry Potter and the Sorcerer's Stone (Harry Potter, #1)</span>,\n",
       " <span aria-level=\"4\" itemprop=\"name\" role=\"heading\">Les Misérables</span>,\n",
       " <span aria-level=\"4\" itemprop=\"name\" role=\"heading\">Fahrenheit 451</span>,\n",
       " <span aria-level=\"4\" itemprop=\"name\" role=\"heading\">Divergent (Divergent, #1)</span>,\n",
       " <span aria-level=\"4\" itemprop=\"name\" role=\"heading\">The Great Gatsby</span>,\n",
       " <span aria-level=\"4\" itemprop=\"name\" role=\"heading\">The Alchemist</span>,\n",
       " <span aria-level=\"4\" itemprop=\"name\" role=\"heading\">Crime and Punishment</span>,\n",
       " <span aria-level=\"4\" itemprop=\"name\" role=\"heading\">Lord of the Flies</span>,\n",
       " <span aria-level=\"4\" itemprop=\"name\" role=\"heading\">Romeo and Juliet</span>,\n",
       " <span aria-level=\"4\" itemprop=\"name\" role=\"heading\">The Little Prince</span>,\n",
       " <span aria-level=\"4\" itemprop=\"name\" role=\"heading\">City of Bones (The Mortal Instruments, #1)</span>,\n",
       " <span aria-level=\"4\" itemprop=\"name\" role=\"heading\">Anne of Green Gables (Anne of Green Gables, #1)</span>,\n",
       " <span aria-level=\"4\" itemprop=\"name\" role=\"heading\">The Help</span>,\n",
       " <span aria-level=\"4\" itemprop=\"name\" role=\"heading\">Ender's Game (Ender's Saga, #1)</span>,\n",
       " <span aria-level=\"4\" itemprop=\"name\" role=\"heading\">The Lightning Thief (Percy Jackson and the Olympians, #1)</span>,\n",
       " <span aria-level=\"4\" itemprop=\"name\" role=\"heading\">Charlotte's Web</span>,\n",
       " <span aria-level=\"4\" itemprop=\"name\" role=\"heading\">Of Mice and Men</span>,\n",
       " <span aria-level=\"4\" itemprop=\"name\" role=\"heading\">Dracula</span>,\n",
       " <span aria-level=\"4\" itemprop=\"name\" role=\"heading\">The Time Traveler's Wife</span>,\n",
       " <span aria-level=\"4\" itemprop=\"name\" role=\"heading\">Brave New World</span>,\n",
       " <span aria-level=\"4\" itemprop=\"name\" role=\"heading\">One Hundred Years of Solitude</span>,\n",
       " <span aria-level=\"4\" itemprop=\"name\" role=\"heading\">The Catcher in the Rye</span>,\n",
       " <span aria-level=\"4\" itemprop=\"name\" role=\"heading\">The Princess Bride</span>,\n",
       " <span aria-level=\"4\" itemprop=\"name\" role=\"heading\">A Thousand Splendid Suns</span>,\n",
       " <span aria-level=\"4\" itemprop=\"name\" role=\"heading\">The Secret Garden</span>,\n",
       " <span aria-level=\"4\" itemprop=\"name\" role=\"heading\">A Game of Thrones (A Song of Ice and Fire, #1)</span>,\n",
       " <span aria-level=\"4\" itemprop=\"name\" role=\"heading\">A Wrinkle in Time (Time Quintet, #1)</span>,\n",
       " <span aria-level=\"4\" itemprop=\"name\" role=\"heading\">The Outsiders</span>,\n",
       " <span aria-level=\"4\" itemprop=\"name\" role=\"heading\">The Adventures of Huckleberry Finn</span>,\n",
       " <span aria-level=\"4\" itemprop=\"name\" role=\"heading\">The Odyssey</span>,\n",
       " <span aria-level=\"4\" itemprop=\"name\" role=\"heading\">The Lovely Bones</span>,\n",
       " <span aria-level=\"4\" itemprop=\"name\" role=\"heading\">Where the Wild Things Are</span>,\n",
       " <span aria-level=\"4\" itemprop=\"name\" role=\"heading\">Green Eggs and Ham</span>,\n",
       " <span aria-level=\"4\" itemprop=\"name\" role=\"heading\">Life of Pi</span>,\n",
       " <span aria-level=\"4\" itemprop=\"name\" role=\"heading\">A Tale of Two Cities</span>,\n",
       " <span aria-level=\"4\" itemprop=\"name\" role=\"heading\">The Kite Runner</span>,\n",
       " <span aria-level=\"4\" itemprop=\"name\" role=\"heading\">Water for Elephants</span>,\n",
       " <span aria-level=\"4\" itemprop=\"name\" role=\"heading\">Lolita</span>,\n",
       " <span aria-level=\"4\" itemprop=\"name\" role=\"heading\">Frankenstein: The 1818 Text</span>,\n",
       " <span aria-level=\"4\" itemprop=\"name\" role=\"heading\">The Handmaid's Tale (The Handmaid's Tale, #1)</span>,\n",
       " <span aria-level=\"4\" itemprop=\"name\" role=\"heading\">The Giver (The Giver, #1)</span>,\n",
       " <span aria-level=\"4\" itemprop=\"name\" role=\"heading\">Slaughterhouse-Five</span>,\n",
       " <span aria-level=\"4\" itemprop=\"name\" role=\"heading\">Little Women</span>,\n",
       " <span aria-level=\"4\" itemprop=\"name\" role=\"heading\">Harry Potter and the Deathly Hallows (Harry Potter, #7)</span>,\n",
       " <span aria-level=\"4\" itemprop=\"name\" role=\"heading\">Dune (Dune, #1)</span>,\n",
       " <span aria-level=\"4\" itemprop=\"name\" role=\"heading\">1984</span>,\n",
       " <span aria-level=\"4\" itemprop=\"name\" role=\"heading\">Catch-22</span>,\n",
       " <span aria-level=\"4\" itemprop=\"name\" role=\"heading\">The Stand</span>,\n",
       " <span aria-level=\"4\" itemprop=\"name\" role=\"heading\">The Pillars of the Earth (Kingsbridge, #1)</span>,\n",
       " <span aria-level=\"4\" itemprop=\"name\" role=\"heading\">The Adventures of Sherlock Holmes (Sherlock Holmes, #3)</span>,\n",
       " <span aria-level=\"4\" itemprop=\"name\" role=\"heading\">Watership Down (Watership Down, #1)</span>,\n",
       " <span aria-level=\"4\" itemprop=\"name\" role=\"heading\">The Bell Jar</span>,\n",
       " <span aria-level=\"4\" itemprop=\"name\" role=\"heading\">Matilda</span>,\n",
       " <span aria-level=\"4\" itemprop=\"name\" role=\"heading\">Great Expectations</span>,\n",
       " <span aria-level=\"4\" itemprop=\"name\" role=\"heading\">Anna Karenina</span>,\n",
       " <span aria-level=\"4\" itemprop=\"name\" role=\"heading\">The Fellowship of the Ring (The Lord of the Rings, #1)</span>,\n",
       " <span aria-level=\"4\" itemprop=\"name\" role=\"heading\">Outlander (Outlander, #1)</span>,\n",
       " <span aria-level=\"4\" itemprop=\"name\" role=\"heading\">One Flew Over the Cuckoo's Nest</span>,\n",
       " <span aria-level=\"4\" itemprop=\"name\" role=\"heading\">The Girl with the Dragon Tattoo (Millennium, #1)</span>,\n",
       " <span aria-level=\"4\" itemprop=\"name\" role=\"heading\">Rebecca</span>,\n",
       " <span aria-level=\"4\" itemprop=\"name\" role=\"heading\">My Sister's Keeper</span>,\n",
       " <span aria-level=\"4\" itemprop=\"name\" role=\"heading\">Harry Potter and the Prisoner of Azkaban (Harry Potter, #3)</span>,\n",
       " <span aria-level=\"4\" itemprop=\"name\" role=\"heading\">The Color Purple</span>,\n",
       " <span aria-level=\"4\" itemprop=\"name\" role=\"heading\">A Tree Grows in Brooklyn</span>,\n",
       " <span aria-level=\"4\" itemprop=\"name\" role=\"heading\">The Brothers Karamazov</span>,\n",
       " <span aria-level=\"4\" itemprop=\"name\" role=\"heading\">A Clockwork Orange</span>,\n",
       " <span aria-level=\"4\" itemprop=\"name\" role=\"heading\">The Road</span>,\n",
       " <span aria-level=\"4\" itemprop=\"name\" role=\"heading\">Angela's Ashes (Frank McCourt, #1)</span>,\n",
       " <span aria-level=\"4\" itemprop=\"name\" role=\"heading\">Vampire Academy (Vampire Academy, #1)</span>,\n",
       " <span aria-level=\"4\" itemprop=\"name\" role=\"heading\">Siddhartha</span>,\n",
       " <span aria-level=\"4\" itemprop=\"name\" role=\"heading\">The Golden Compass (His Dark Materials, #1)</span>,\n",
       " <span aria-level=\"4\" itemprop=\"name\" role=\"heading\">The Poisonwood Bible</span>,\n",
       " <span aria-level=\"4\" itemprop=\"name\" role=\"heading\">Don Quixote</span>,\n",
       " <span aria-level=\"4\" itemprop=\"name\" role=\"heading\">Atlas Shrugged</span>,\n",
       " <span aria-level=\"4\" itemprop=\"name\" role=\"heading\">The Old Man and the Sea</span>,\n",
       " <span aria-level=\"4\" itemprop=\"name\" role=\"heading\">The Notebook (The Notebook, #1)</span>,\n",
       " <span aria-level=\"4\" itemprop=\"name\" role=\"heading\">Winnie-the-Pooh (Winnie-the-Pooh, #1)</span>,\n",
       " <span aria-level=\"4\" itemprop=\"name\" role=\"heading\">The Complete Stories and Poems</span>,\n",
       " <span aria-level=\"4\" itemprop=\"name\" role=\"heading\">Interview with the Vampire (The Vampire Chronicles, #1)</span>,\n",
       " <span aria-level=\"4\" itemprop=\"name\" role=\"heading\">A Prayer for Owen Meany</span>]"
      ]
     },
     "execution_count": 8,
     "metadata": {},
     "output_type": "execute_result"
    }
   ],
   "source": [
    "livre"
   ]
  },
  {
   "cell_type": "markdown",
   "id": "5f84bc66",
   "metadata": {},
   "source": [
    "On constate que l'ont récupére bien toutes les balises contenant les titres de livre\n",
    "\n",
    "On peux cependant récupéré les auteurs associé en simplifiant notre filtre"
   ]
  },
  {
   "cell_type": "code",
   "execution_count": 9,
   "id": "69f2e891",
   "metadata": {},
   "outputs": [],
   "source": [
    "livre = soup.find_all(name = 'span', attrs={'itemprop': 'name'})"
   ]
  },
  {
   "cell_type": "code",
   "execution_count": 10,
   "id": "72e8d99e",
   "metadata": {},
   "outputs": [
    {
     "data": {
      "text/plain": [
       "[<span aria-level=\"4\" itemprop=\"name\" role=\"heading\">The Hunger Games (The Hunger Games, #1)</span>,\n",
       " <span itemprop=\"name\">Suzanne Collins</span>,\n",
       " <span aria-level=\"4\" itemprop=\"name\" role=\"heading\">Harry Potter and the Order of the Phoenix (Harry Potter, #5)</span>,\n",
       " <span itemprop=\"name\">J.K. Rowling</span>,\n",
       " <span aria-level=\"4\" itemprop=\"name\" role=\"heading\">To Kill a Mockingbird</span>,\n",
       " <span itemprop=\"name\">Harper Lee</span>,\n",
       " <span aria-level=\"4\" itemprop=\"name\" role=\"heading\">Pride and Prejudice</span>,\n",
       " <span itemprop=\"name\">Jane Austen</span>,\n",
       " <span aria-level=\"4\" itemprop=\"name\" role=\"heading\">Twilight (The Twilight Saga, #1)</span>,\n",
       " <span itemprop=\"name\">Stephenie Meyer</span>,\n",
       " <span aria-level=\"4\" itemprop=\"name\" role=\"heading\">The Book Thief</span>,\n",
       " <span itemprop=\"name\">Markus Zusak</span>,\n",
       " <span aria-level=\"4\" itemprop=\"name\" role=\"heading\">Animal Farm</span>,\n",
       " <span itemprop=\"name\">George Orwell</span>,\n",
       " <span aria-level=\"4\" itemprop=\"name\" role=\"heading\">The Chronicles of Narnia (Chronicles of Narnia, #1-7)</span>,\n",
       " <span itemprop=\"name\">C.S. Lewis</span>,\n",
       " <span aria-level=\"4\" itemprop=\"name\" role=\"heading\">J.R.R. Tolkien 4-Book Boxed Set: The Hobbit and The Lord of the Rings</span>,\n",
       " <span itemprop=\"name\">J.R.R. Tolkien</span>,\n",
       " <span aria-level=\"4\" itemprop=\"name\" role=\"heading\">The Fault in Our Stars</span>,\n",
       " <span itemprop=\"name\">John Green</span>,\n",
       " <span aria-level=\"4\" itemprop=\"name\" role=\"heading\">Gone with the Wind</span>,\n",
       " <span itemprop=\"name\">Margaret Mitchell</span>,\n",
       " <span aria-level=\"4\" itemprop=\"name\" role=\"heading\">The Hitchhiker's Guide to the Galaxy (Hitchhiker's Guide to the Galaxy, #1)</span>,\n",
       " <span itemprop=\"name\">Douglas Adams</span>,\n",
       " <span aria-level=\"4\" itemprop=\"name\" role=\"heading\">The Giving Tree</span>,\n",
       " <span itemprop=\"name\">Shel Silverstein</span>,\n",
       " <span aria-level=\"4\" itemprop=\"name\" role=\"heading\">Wuthering Heights</span>,\n",
       " <span itemprop=\"name\">Emily Brontë</span>,\n",
       " <span aria-level=\"4\" itemprop=\"name\" role=\"heading\">The Picture of Dorian Gray</span>,\n",
       " <span itemprop=\"name\">Oscar Wilde</span>,\n",
       " <span aria-level=\"4\" itemprop=\"name\" role=\"heading\">The Da Vinci Code (Robert Langdon, #2)</span>,\n",
       " <span itemprop=\"name\">Dan Brown</span>,\n",
       " <span aria-level=\"4\" itemprop=\"name\" role=\"heading\">Jane Eyre</span>,\n",
       " <span itemprop=\"name\">Charlotte Brontë</span>,\n",
       " <span aria-level=\"4\" itemprop=\"name\" role=\"heading\">Memoirs of a Geisha</span>,\n",
       " <span itemprop=\"name\">Arthur Golden</span>,\n",
       " <span aria-level=\"4\" itemprop=\"name\" role=\"heading\">Alice's Adventures in Wonderland / Through the Looking-Glass</span>,\n",
       " <span itemprop=\"name\">Lewis Carroll</span>,\n",
       " <span aria-level=\"4\" itemprop=\"name\" role=\"heading\">The Perks of Being a Wallflower</span>,\n",
       " <span itemprop=\"name\">Stephen Chbosky</span>,\n",
       " <span aria-level=\"4\" itemprop=\"name\" role=\"heading\">Harry Potter and the Sorcerer's Stone (Harry Potter, #1)</span>,\n",
       " <span itemprop=\"name\">J.K. Rowling</span>,\n",
       " <span aria-level=\"4\" itemprop=\"name\" role=\"heading\">Les Misérables</span>,\n",
       " <span itemprop=\"name\">Victor Hugo</span>,\n",
       " <span aria-level=\"4\" itemprop=\"name\" role=\"heading\">Fahrenheit 451</span>,\n",
       " <span itemprop=\"name\">Ray Bradbury</span>,\n",
       " <span aria-level=\"4\" itemprop=\"name\" role=\"heading\">Divergent (Divergent, #1)</span>,\n",
       " <span itemprop=\"name\">Veronica Roth</span>,\n",
       " <span aria-level=\"4\" itemprop=\"name\" role=\"heading\">The Great Gatsby</span>,\n",
       " <span itemprop=\"name\">F. Scott Fitzgerald</span>,\n",
       " <span aria-level=\"4\" itemprop=\"name\" role=\"heading\">The Alchemist</span>,\n",
       " <span itemprop=\"name\">Paulo Coelho</span>,\n",
       " <span aria-level=\"4\" itemprop=\"name\" role=\"heading\">Crime and Punishment</span>,\n",
       " <span itemprop=\"name\">Fyodor Dostoevsky</span>,\n",
       " <span aria-level=\"4\" itemprop=\"name\" role=\"heading\">Lord of the Flies</span>,\n",
       " <span itemprop=\"name\">William Golding</span>,\n",
       " <span aria-level=\"4\" itemprop=\"name\" role=\"heading\">Romeo and Juliet</span>,\n",
       " <span itemprop=\"name\">William Shakespeare</span>,\n",
       " <span aria-level=\"4\" itemprop=\"name\" role=\"heading\">The Little Prince</span>,\n",
       " <span itemprop=\"name\">Antoine de Saint-Exupéry</span>,\n",
       " <span aria-level=\"4\" itemprop=\"name\" role=\"heading\">City of Bones (The Mortal Instruments, #1)</span>,\n",
       " <span itemprop=\"name\">Cassandra Clare</span>,\n",
       " <span aria-level=\"4\" itemprop=\"name\" role=\"heading\">Anne of Green Gables (Anne of Green Gables, #1)</span>,\n",
       " <span itemprop=\"name\">L.M. Montgomery</span>,\n",
       " <span aria-level=\"4\" itemprop=\"name\" role=\"heading\">The Help</span>,\n",
       " <span itemprop=\"name\">Kathryn Stockett</span>,\n",
       " <span aria-level=\"4\" itemprop=\"name\" role=\"heading\">Ender's Game (Ender's Saga, #1)</span>,\n",
       " <span itemprop=\"name\">Orson Scott Card</span>,\n",
       " <span aria-level=\"4\" itemprop=\"name\" role=\"heading\">The Lightning Thief (Percy Jackson and the Olympians, #1)</span>,\n",
       " <span itemprop=\"name\">Rick Riordan</span>,\n",
       " <span aria-level=\"4\" itemprop=\"name\" role=\"heading\">Charlotte's Web</span>,\n",
       " <span itemprop=\"name\">E.B. White</span>,\n",
       " <span aria-level=\"4\" itemprop=\"name\" role=\"heading\">Of Mice and Men</span>,\n",
       " <span itemprop=\"name\">John Steinbeck</span>,\n",
       " <span aria-level=\"4\" itemprop=\"name\" role=\"heading\">Dracula</span>,\n",
       " <span itemprop=\"name\">Bram Stoker</span>,\n",
       " <span aria-level=\"4\" itemprop=\"name\" role=\"heading\">The Time Traveler's Wife</span>,\n",
       " <span itemprop=\"name\">Audrey Niffenegger</span>,\n",
       " <span aria-level=\"4\" itemprop=\"name\" role=\"heading\">Brave New World</span>,\n",
       " <span itemprop=\"name\">Aldous Huxley</span>,\n",
       " <span aria-level=\"4\" itemprop=\"name\" role=\"heading\">One Hundred Years of Solitude</span>,\n",
       " <span itemprop=\"name\">Gabriel García Márquez</span>,\n",
       " <span aria-level=\"4\" itemprop=\"name\" role=\"heading\">The Catcher in the Rye</span>,\n",
       " <span itemprop=\"name\">J.D. Salinger</span>,\n",
       " <span aria-level=\"4\" itemprop=\"name\" role=\"heading\">The Princess Bride</span>,\n",
       " <span itemprop=\"name\">William Goldman</span>,\n",
       " <span aria-level=\"4\" itemprop=\"name\" role=\"heading\">A Thousand Splendid Suns</span>,\n",
       " <span itemprop=\"name\">Khaled Hosseini</span>,\n",
       " <span aria-level=\"4\" itemprop=\"name\" role=\"heading\">The Secret Garden</span>,\n",
       " <span itemprop=\"name\">Frances Hodgson Burnett</span>,\n",
       " <span aria-level=\"4\" itemprop=\"name\" role=\"heading\">A Game of Thrones (A Song of Ice and Fire, #1)</span>,\n",
       " <span itemprop=\"name\">George R.R. Martin</span>,\n",
       " <span aria-level=\"4\" itemprop=\"name\" role=\"heading\">A Wrinkle in Time (Time Quintet, #1)</span>,\n",
       " <span itemprop=\"name\">Madeleine L'Engle</span>,\n",
       " <span aria-level=\"4\" itemprop=\"name\" role=\"heading\">The Outsiders</span>,\n",
       " <span itemprop=\"name\">S.E. Hinton</span>,\n",
       " <span aria-level=\"4\" itemprop=\"name\" role=\"heading\">The Adventures of Huckleberry Finn</span>,\n",
       " <span itemprop=\"name\">Mark Twain</span>,\n",
       " <span aria-level=\"4\" itemprop=\"name\" role=\"heading\">The Odyssey</span>,\n",
       " <span itemprop=\"name\">Homer</span>,\n",
       " <span aria-level=\"4\" itemprop=\"name\" role=\"heading\">The Lovely Bones</span>,\n",
       " <span itemprop=\"name\">Alice Sebold</span>,\n",
       " <span aria-level=\"4\" itemprop=\"name\" role=\"heading\">Where the Wild Things Are</span>,\n",
       " <span itemprop=\"name\">Maurice Sendak</span>,\n",
       " <span aria-level=\"4\" itemprop=\"name\" role=\"heading\">Green Eggs and Ham</span>,\n",
       " <span itemprop=\"name\">Dr. Seuss</span>,\n",
       " <span aria-level=\"4\" itemprop=\"name\" role=\"heading\">Life of Pi</span>,\n",
       " <span itemprop=\"name\">Yann Martel</span>,\n",
       " <span aria-level=\"4\" itemprop=\"name\" role=\"heading\">A Tale of Two Cities</span>,\n",
       " <span itemprop=\"name\">Charles Dickens</span>,\n",
       " <span aria-level=\"4\" itemprop=\"name\" role=\"heading\">The Kite Runner</span>,\n",
       " <span itemprop=\"name\">Khaled Hosseini</span>,\n",
       " <span aria-level=\"4\" itemprop=\"name\" role=\"heading\">Water for Elephants</span>,\n",
       " <span itemprop=\"name\">Sara Gruen</span>,\n",
       " <span aria-level=\"4\" itemprop=\"name\" role=\"heading\">Lolita</span>,\n",
       " <span itemprop=\"name\">Vladimir Nabokov</span>,\n",
       " <span aria-level=\"4\" itemprop=\"name\" role=\"heading\">Frankenstein: The 1818 Text</span>,\n",
       " <span itemprop=\"name\">Mary Wollstonecraft Shelley</span>,\n",
       " <span aria-level=\"4\" itemprop=\"name\" role=\"heading\">The Handmaid's Tale (The Handmaid's Tale, #1)</span>,\n",
       " <span itemprop=\"name\">Margaret Atwood</span>,\n",
       " <span aria-level=\"4\" itemprop=\"name\" role=\"heading\">The Giver (The Giver, #1)</span>,\n",
       " <span itemprop=\"name\">Lois Lowry</span>,\n",
       " <span aria-level=\"4\" itemprop=\"name\" role=\"heading\">Slaughterhouse-Five</span>,\n",
       " <span itemprop=\"name\">Kurt Vonnegut Jr.</span>,\n",
       " <span aria-level=\"4\" itemprop=\"name\" role=\"heading\">Little Women</span>,\n",
       " <span itemprop=\"name\">Louisa May Alcott</span>,\n",
       " <span aria-level=\"4\" itemprop=\"name\" role=\"heading\">Harry Potter and the Deathly Hallows (Harry Potter, #7)</span>,\n",
       " <span itemprop=\"name\">J.K. Rowling</span>,\n",
       " <span aria-level=\"4\" itemprop=\"name\" role=\"heading\">Dune (Dune, #1)</span>,\n",
       " <span itemprop=\"name\">Frank Herbert</span>,\n",
       " <span aria-level=\"4\" itemprop=\"name\" role=\"heading\">1984</span>,\n",
       " <span itemprop=\"name\">George Orwell</span>,\n",
       " <span aria-level=\"4\" itemprop=\"name\" role=\"heading\">Catch-22</span>,\n",
       " <span itemprop=\"name\">Joseph Heller</span>,\n",
       " <span aria-level=\"4\" itemprop=\"name\" role=\"heading\">The Stand</span>,\n",
       " <span itemprop=\"name\">Stephen King</span>,\n",
       " <span aria-level=\"4\" itemprop=\"name\" role=\"heading\">The Pillars of the Earth (Kingsbridge, #1)</span>,\n",
       " <span itemprop=\"name\">Ken Follett</span>,\n",
       " <span aria-level=\"4\" itemprop=\"name\" role=\"heading\">The Adventures of Sherlock Holmes (Sherlock Holmes, #3)</span>,\n",
       " <span itemprop=\"name\">Arthur Conan Doyle</span>,\n",
       " <span aria-level=\"4\" itemprop=\"name\" role=\"heading\">Watership Down (Watership Down, #1)</span>,\n",
       " <span itemprop=\"name\">Richard  Adams</span>,\n",
       " <span aria-level=\"4\" itemprop=\"name\" role=\"heading\">The Bell Jar</span>,\n",
       " <span itemprop=\"name\">Sylvia Plath</span>,\n",
       " <span aria-level=\"4\" itemprop=\"name\" role=\"heading\">Matilda</span>,\n",
       " <span itemprop=\"name\">Roald Dahl</span>,\n",
       " <span aria-level=\"4\" itemprop=\"name\" role=\"heading\">Great Expectations</span>,\n",
       " <span itemprop=\"name\">Charles Dickens</span>,\n",
       " <span aria-level=\"4\" itemprop=\"name\" role=\"heading\">Anna Karenina</span>,\n",
       " <span itemprop=\"name\">Leo Tolstoy</span>,\n",
       " <span aria-level=\"4\" itemprop=\"name\" role=\"heading\">The Fellowship of the Ring (The Lord of the Rings, #1)</span>,\n",
       " <span itemprop=\"name\">J.R.R. Tolkien</span>,\n",
       " <span aria-level=\"4\" itemprop=\"name\" role=\"heading\">Outlander (Outlander, #1)</span>,\n",
       " <span itemprop=\"name\">Diana Gabaldon</span>,\n",
       " <span aria-level=\"4\" itemprop=\"name\" role=\"heading\">One Flew Over the Cuckoo's Nest</span>,\n",
       " <span itemprop=\"name\">Ken Kesey</span>,\n",
       " <span aria-level=\"4\" itemprop=\"name\" role=\"heading\">The Girl with the Dragon Tattoo (Millennium, #1)</span>,\n",
       " <span itemprop=\"name\">Stieg Larsson</span>,\n",
       " <span aria-level=\"4\" itemprop=\"name\" role=\"heading\">Rebecca</span>,\n",
       " <span itemprop=\"name\">Daphne du Maurier</span>,\n",
       " <span aria-level=\"4\" itemprop=\"name\" role=\"heading\">My Sister's Keeper</span>,\n",
       " <span itemprop=\"name\">Jodi Picoult</span>,\n",
       " <span aria-level=\"4\" itemprop=\"name\" role=\"heading\">Harry Potter and the Prisoner of Azkaban (Harry Potter, #3)</span>,\n",
       " <span itemprop=\"name\">J.K. Rowling</span>,\n",
       " <span aria-level=\"4\" itemprop=\"name\" role=\"heading\">The Color Purple</span>,\n",
       " <span itemprop=\"name\">Alice Walker</span>,\n",
       " <span aria-level=\"4\" itemprop=\"name\" role=\"heading\">A Tree Grows in Brooklyn</span>,\n",
       " <span itemprop=\"name\">Betty  Smith</span>,\n",
       " <span aria-level=\"4\" itemprop=\"name\" role=\"heading\">The Brothers Karamazov</span>,\n",
       " <span itemprop=\"name\">Fyodor Dostoevsky</span>,\n",
       " <span aria-level=\"4\" itemprop=\"name\" role=\"heading\">A Clockwork Orange</span>,\n",
       " <span itemprop=\"name\">Anthony Burgess</span>,\n",
       " <span aria-level=\"4\" itemprop=\"name\" role=\"heading\">The Road</span>,\n",
       " <span itemprop=\"name\">Cormac McCarthy</span>,\n",
       " <span aria-level=\"4\" itemprop=\"name\" role=\"heading\">Angela's Ashes (Frank McCourt, #1)</span>,\n",
       " <span itemprop=\"name\">Frank McCourt</span>,\n",
       " <span aria-level=\"4\" itemprop=\"name\" role=\"heading\">Vampire Academy (Vampire Academy, #1)</span>,\n",
       " <span itemprop=\"name\">Richelle Mead</span>,\n",
       " <span aria-level=\"4\" itemprop=\"name\" role=\"heading\">Siddhartha</span>,\n",
       " <span itemprop=\"name\">Hermann Hesse</span>,\n",
       " <span aria-level=\"4\" itemprop=\"name\" role=\"heading\">The Golden Compass (His Dark Materials, #1)</span>,\n",
       " <span itemprop=\"name\">Philip Pullman</span>,\n",
       " <span aria-level=\"4\" itemprop=\"name\" role=\"heading\">The Poisonwood Bible</span>,\n",
       " <span itemprop=\"name\">Barbara Kingsolver</span>,\n",
       " <span aria-level=\"4\" itemprop=\"name\" role=\"heading\">Don Quixote</span>,\n",
       " <span itemprop=\"name\">Miguel de Cervantes Saavedra</span>,\n",
       " <span aria-level=\"4\" itemprop=\"name\" role=\"heading\">Atlas Shrugged</span>,\n",
       " <span itemprop=\"name\">Ayn Rand</span>,\n",
       " <span aria-level=\"4\" itemprop=\"name\" role=\"heading\">The Old Man and the Sea</span>,\n",
       " <span itemprop=\"name\">Ernest Hemingway</span>,\n",
       " <span aria-level=\"4\" itemprop=\"name\" role=\"heading\">The Notebook (The Notebook, #1)</span>,\n",
       " <span itemprop=\"name\">Nicholas Sparks</span>,\n",
       " <span aria-level=\"4\" itemprop=\"name\" role=\"heading\">Winnie-the-Pooh (Winnie-the-Pooh, #1)</span>,\n",
       " <span itemprop=\"name\">A.A. Milne</span>,\n",
       " <span aria-level=\"4\" itemprop=\"name\" role=\"heading\">The Complete Stories and Poems</span>,\n",
       " <span itemprop=\"name\">Edgar Allan Poe</span>,\n",
       " <span aria-level=\"4\" itemprop=\"name\" role=\"heading\">Interview with the Vampire (The Vampire Chronicles, #1)</span>,\n",
       " <span itemprop=\"name\">Anne Rice</span>,\n",
       " <span aria-level=\"4\" itemprop=\"name\" role=\"heading\">A Prayer for Owen Meany</span>,\n",
       " <span itemprop=\"name\">John Irving</span>]"
      ]
     },
     "execution_count": 10,
     "metadata": {},
     "output_type": "execute_result"
    }
   ],
   "source": [
    "livre"
   ]
  },
  {
   "cell_type": "markdown",
   "id": "d4280b89",
   "metadata": {},
   "source": [
    "Nous avons maintenant un tableau contenant titre et auteur"
   ]
  },
  {
   "cell_type": "code",
   "execution_count": 11,
   "id": "c15b799b",
   "metadata": {},
   "outputs": [],
   "source": [
    "titre = []\n",
    "auteur = []"
   ]
  },
  {
   "cell_type": "code",
   "execution_count": 12,
   "id": "6006d515",
   "metadata": {},
   "outputs": [],
   "source": [
    "for i, element in enumerate(livre):\n",
    "    if i % 2 != 0:\n",
    "        auteur.append(element.text)\n",
    "    else:\n",
    "        titre.append(element.text)"
   ]
  },
  {
   "cell_type": "code",
   "execution_count": 13,
   "id": "938033a6",
   "metadata": {},
   "outputs": [
    {
     "data": {
      "text/plain": [
       "['The Hunger Games (The Hunger Games, #1)',\n",
       " 'Harry Potter and the Order of the Phoenix (Harry Potter, #5)',\n",
       " 'To Kill a Mockingbird',\n",
       " 'Pride and Prejudice',\n",
       " 'Twilight (The Twilight Saga, #1)']"
      ]
     },
     "execution_count": 13,
     "metadata": {},
     "output_type": "execute_result"
    }
   ],
   "source": [
    "titre[:5]"
   ]
  },
  {
   "cell_type": "code",
   "execution_count": 14,
   "id": "d71dac2a",
   "metadata": {},
   "outputs": [
    {
     "data": {
      "text/plain": [
       "['Suzanne Collins',\n",
       " 'J.K. Rowling',\n",
       " 'Harper Lee',\n",
       " 'Jane Austen',\n",
       " 'Stephenie Meyer']"
      ]
     },
     "execution_count": 14,
     "metadata": {},
     "output_type": "execute_result"
    }
   ],
   "source": [
    "auteur[:5]"
   ]
  },
  {
   "cell_type": "code",
   "execution_count": 15,
   "id": "65bfb0d1",
   "metadata": {},
   "outputs": [],
   "source": [
    "rating = soup.find_all(name = 'span', attrs={'class': 'minirating'})"
   ]
  },
  {
   "cell_type": "code",
   "execution_count": 17,
   "id": "5246f86b",
   "metadata": {
    "scrolled": true
   },
   "outputs": [
    {
     "name": "stdout",
     "output_type": "stream",
     "text": [
      " 4.32 avg rating — 7,215,644 ratings\n",
      " 4.50 avg rating — 2,865,070 ratings\n",
      " 4.27 avg rating — 5,146,826 ratings\n",
      " 4.28 avg rating — 3,500,212 ratings\n",
      " 3.62 avg rating — 5,613,941 ratings\n",
      " 4.38 avg rating — 2,117,807 ratings\n",
      " 3.97 avg rating — 3,178,076 ratings\n",
      " 4.26 avg rating — 576,611 ratings\n",
      " 4.60 avg rating — 120,640 ratings\n",
      " 4.17 avg rating — 4,196,475 ratings\n",
      " 4.30 avg rating — 1,139,503 ratings\n",
      " 4.22 avg rating — 1,606,569 ratings\n",
      " 4.37 avg rating — 1,000,913 ratings\n",
      " 3.87 avg rating — 1,522,980 ratings\n",
      " 4.10 avg rating — 1,158,060 ratings\n",
      " 3.88 avg rating — 2,113,725 ratings\n",
      " 4.14 avg rating — 1,814,667 ratings\n",
      " 4.13 avg rating — 1,838,960 ratings\n",
      " 4.06 avg rating — 501,925 ratings\n",
      " 4.21 avg rating — 1,460,300 ratings\n",
      " 4.48 avg rating — 8,275,201 ratings\n",
      " 4.19 avg rating — 731,637 ratings\n",
      " 3.98 avg rating — 1,960,868 ratings\n",
      " 4.17 avg rating — 3,350,614 ratings\n",
      " 3.93 avg rating — 4,330,938 ratings\n",
      " 3.89 avg rating — 2,462,953 ratings\n",
      " 4.24 avg rating — 725,266 ratings\n",
      " 3.69 avg rating — 2,520,795 ratings\n",
      " 3.75 avg rating — 2,275,976 ratings\n",
      " 4.31 avg rating — 1,665,274 ratings\n",
      " 4.09 avg rating — 1,795,023 ratings\n",
      " 4.28 avg rating — 832,330 ratings\n",
      " 4.46 avg rating — 2,404,165 ratings\n",
      " 4.30 avg rating — 1,234,341 ratings\n",
      " 4.28 avg rating — 2,365,119 ratings\n",
      " 4.18 avg rating — 1,593,280 ratings\n",
      " 3.88 avg rating — 2,177,619 ratings\n",
      "really liked it 4.00 avg rating — 1,061,521 ratings\n",
      " 3.98 avg rating — 1,666,433 ratings\n",
      " 3.99 avg rating — 1,607,671 ratings\n",
      " 4.10 avg rating — 836,572 ratings\n",
      " 3.81 avg rating — 3,049,834 ratings\n",
      " 4.26 avg rating — 833,237 ratings\n",
      " 4.40 avg rating — 1,296,844 ratings\n",
      " 4.14 avg rating — 1,007,855 ratings\n",
      " 4.44 avg rating — 2,198,696 ratings\n",
      " 3.99 avg rating — 1,111,264 ratings\n",
      " 4.11 avg rating — 1,089,114 ratings\n",
      " 3.82 avg rating — 1,201,670 ratings\n",
      " 3.79 avg rating — 943,639 ratings\n",
      " 3.83 avg rating — 2,161,966 ratings\n",
      " 4.22 avg rating — 903,547 ratings\n",
      " 4.30 avg rating — 689,502 ratings\n",
      " 3.92 avg rating — 1,459,301 ratings\n",
      " 3.86 avg rating — 866,888 ratings\n",
      " 4.32 avg rating — 2,711,762 ratings\n",
      " 4.10 avg rating — 1,482,643 ratings\n",
      " 3.88 avg rating — 729,431 ratings\n",
      " 3.83 avg rating — 1,314,176 ratings\n",
      " 4.12 avg rating — 1,695,609 ratings\n",
      " 4.13 avg rating — 2,055,132 ratings\n",
      " 4.08 avg rating — 1,223,254 ratings\n",
      " 4.12 avg rating — 1,894,588 ratings\n",
      " 4.62 avg rating — 3,177,790 ratings\n",
      " 4.25 avg rating — 1,021,166 ratings\n",
      " 4.19 avg rating — 3,705,378 ratings\n",
      " 3.98 avg rating — 770,526 ratings\n",
      " 4.34 avg rating — 679,523 ratings\n",
      " 4.32 avg rating — 696,187 ratings\n",
      " 4.30 avg rating — 267,643 ratings\n",
      " 4.07 avg rating — 454,301 ratings\n",
      " 4.03 avg rating — 694,651 ratings\n",
      " 4.32 avg rating — 773,234 ratings\n",
      " 3.79 avg rating — 713,893 ratings\n",
      " 4.07 avg rating — 738,919 ratings\n",
      " 4.37 avg rating — 2,541,919 ratings\n",
      " 4.24 avg rating — 920,618 ratings\n",
      " 4.20 avg rating — 672,543 ratings\n",
      " 4.15 avg rating — 2,860,749 ratings\n",
      " 4.24 avg rating — 528,801 ratings\n",
      " 4.09 avg rating — 1,123,479 ratings\n",
      " 4.58 avg rating — 3,338,329 ratings\n",
      " 4.24 avg rating — 579,868 ratings\n",
      " 4.28 avg rating — 417,449 ratings\n",
      " 4.34 avg rating — 272,169 ratings\n",
      "really liked it 4.00 avg rating — 648,297 ratings\n",
      " 3.97 avg rating — 784,381 ratings\n",
      " 4.13 avg rating — 581,150 ratings\n",
      " 4.11 avg rating — 599,183 ratings\n",
      " 4.05 avg rating — 656,545 ratings\n",
      "really liked it 4.00 avg rating — 1,393,003 ratings\n",
      " 4.07 avg rating — 691,477 ratings\n",
      " 3.88 avg rating — 234,454 ratings\n",
      " 3.69 avg rating — 369,806 ratings\n",
      " 3.79 avg rating — 954,190 ratings\n",
      " 4.12 avg rating — 1,473,059 ratings\n",
      " 4.33 avg rating — 297,847 ratings\n",
      " 4.37 avg rating — 232,358 ratings\n",
      " 4.01 avg rating — 523,853 ratings\n",
      " 4.23 avg rating — 299,464 ratings\n",
      "100\n"
     ]
    }
   ],
   "source": [
    "for el in rating:\n",
    "    print(el.text)\n",
    "print(len(rating))"
   ]
  },
  {
   "cell_type": "markdown",
   "id": "1925b5df",
   "metadata": {},
   "source": [
    "'really liked it 4.00 avg rating — 1,393,742 ratings' ses lignes vont nous géner"
   ]
  },
  {
   "cell_type": "code",
   "execution_count": 18,
   "id": "e5293215",
   "metadata": {},
   "outputs": [
    {
     "name": "stdout",
     "output_type": "stream",
     "text": [
      "Dracula 37\n",
      "A Clockwork Orange 85\n",
      "The Golden Compass (His Dark Materials, #1) 90\n"
     ]
    }
   ],
   "source": [
    "for idx, el in enumerate(rating):\n",
    "    if el.text.split(' ')[0] == 'really':\n",
    "        print(titre[idx] + ' ' + str(idx))"
   ]
  },
  {
   "cell_type": "code",
   "execution_count": 19,
   "id": "e4dd54d3",
   "metadata": {},
   "outputs": [],
   "source": [
    "rates = []"
   ]
  },
  {
   "cell_type": "code",
   "execution_count": 20,
   "id": "11a09425",
   "metadata": {},
   "outputs": [
    {
     "name": "stdout",
     "output_type": "stream",
     "text": [
      "['really', 'liked', 'it', '4.00', 'avg', 'rating', '—', '1,061,521', 'ratings']\n",
      "['really', 'liked', 'it', '4.00', 'avg', 'rating', '—', '648,297', 'ratings']\n",
      "['really', 'liked', 'it', '4.00', 'avg', 'rating', '—', '1,393,003', 'ratings']\n"
     ]
    }
   ],
   "source": [
    "for el in rating:\n",
    "    if el.text.split(' ')[0] == 'really':\n",
    "        print(el.text.split(' '))\n",
    "        rates.append(el.text.split(' ')[3])\n",
    "    else:\n",
    "        rates.append(el.text.split(' ')[1])"
   ]
  },
  {
   "cell_type": "code",
   "execution_count": 21,
   "id": "b743ef34",
   "metadata": {
    "scrolled": true
   },
   "outputs": [
    {
     "data": {
      "text/plain": [
       "['4.32',\n",
       " '4.50',\n",
       " '4.27',\n",
       " '4.28',\n",
       " '3.62',\n",
       " '4.38',\n",
       " '3.97',\n",
       " '4.26',\n",
       " '4.60',\n",
       " '4.17',\n",
       " '4.30',\n",
       " '4.22',\n",
       " '4.37',\n",
       " '3.87',\n",
       " '4.10',\n",
       " '3.88',\n",
       " '4.14',\n",
       " '4.13',\n",
       " '4.06',\n",
       " '4.21',\n",
       " '4.48',\n",
       " '4.19',\n",
       " '3.98',\n",
       " '4.17',\n",
       " '3.93',\n",
       " '3.89',\n",
       " '4.24',\n",
       " '3.69',\n",
       " '3.75',\n",
       " '4.31',\n",
       " '4.09',\n",
       " '4.28',\n",
       " '4.46',\n",
       " '4.30',\n",
       " '4.28',\n",
       " '4.18',\n",
       " '3.88',\n",
       " '4.00',\n",
       " '3.98',\n",
       " '3.99']"
      ]
     },
     "execution_count": 21,
     "metadata": {},
     "output_type": "execute_result"
    }
   ],
   "source": [
    "rates[:40]"
   ]
  },
  {
   "cell_type": "code",
   "execution_count": 22,
   "id": "ebbef4a0",
   "metadata": {},
   "outputs": [],
   "source": [
    "dataframe = pandas.DataFrame(list(zip(titre, auteur, rates)), columns=['titre', 'auteur', 'rates'])"
   ]
  },
  {
   "cell_type": "code",
   "execution_count": 23,
   "id": "92b7a912",
   "metadata": {},
   "outputs": [
    {
     "data": {
      "text/html": [
       "<div>\n",
       "<style scoped>\n",
       "    .dataframe tbody tr th:only-of-type {\n",
       "        vertical-align: middle;\n",
       "    }\n",
       "\n",
       "    .dataframe tbody tr th {\n",
       "        vertical-align: top;\n",
       "    }\n",
       "\n",
       "    .dataframe thead th {\n",
       "        text-align: right;\n",
       "    }\n",
       "</style>\n",
       "<table border=\"1\" class=\"dataframe\">\n",
       "  <thead>\n",
       "    <tr style=\"text-align: right;\">\n",
       "      <th></th>\n",
       "      <th>titre</th>\n",
       "      <th>auteur</th>\n",
       "      <th>rates</th>\n",
       "    </tr>\n",
       "  </thead>\n",
       "  <tbody>\n",
       "    <tr>\n",
       "      <th>0</th>\n",
       "      <td>The Hunger Games (The Hunger Games, #1)</td>\n",
       "      <td>Suzanne Collins</td>\n",
       "      <td>4.32</td>\n",
       "    </tr>\n",
       "    <tr>\n",
       "      <th>1</th>\n",
       "      <td>Harry Potter and the Order of the Phoenix (Har...</td>\n",
       "      <td>J.K. Rowling</td>\n",
       "      <td>4.50</td>\n",
       "    </tr>\n",
       "    <tr>\n",
       "      <th>2</th>\n",
       "      <td>To Kill a Mockingbird</td>\n",
       "      <td>Harper Lee</td>\n",
       "      <td>4.27</td>\n",
       "    </tr>\n",
       "    <tr>\n",
       "      <th>3</th>\n",
       "      <td>Pride and Prejudice</td>\n",
       "      <td>Jane Austen</td>\n",
       "      <td>4.28</td>\n",
       "    </tr>\n",
       "    <tr>\n",
       "      <th>4</th>\n",
       "      <td>Twilight (The Twilight Saga, #1)</td>\n",
       "      <td>Stephenie Meyer</td>\n",
       "      <td>3.62</td>\n",
       "    </tr>\n",
       "    <tr>\n",
       "      <th>...</th>\n",
       "      <td>...</td>\n",
       "      <td>...</td>\n",
       "      <td>...</td>\n",
       "    </tr>\n",
       "    <tr>\n",
       "      <th>95</th>\n",
       "      <td>The Notebook (The Notebook, #1)</td>\n",
       "      <td>Nicholas Sparks</td>\n",
       "      <td>4.12</td>\n",
       "    </tr>\n",
       "    <tr>\n",
       "      <th>96</th>\n",
       "      <td>Winnie-the-Pooh (Winnie-the-Pooh, #1)</td>\n",
       "      <td>A.A. Milne</td>\n",
       "      <td>4.33</td>\n",
       "    </tr>\n",
       "    <tr>\n",
       "      <th>97</th>\n",
       "      <td>The Complete Stories and Poems</td>\n",
       "      <td>Edgar Allan Poe</td>\n",
       "      <td>4.37</td>\n",
       "    </tr>\n",
       "    <tr>\n",
       "      <th>98</th>\n",
       "      <td>Interview with the Vampire (The Vampire Chroni...</td>\n",
       "      <td>Anne Rice</td>\n",
       "      <td>4.01</td>\n",
       "    </tr>\n",
       "    <tr>\n",
       "      <th>99</th>\n",
       "      <td>A Prayer for Owen Meany</td>\n",
       "      <td>John Irving</td>\n",
       "      <td>4.23</td>\n",
       "    </tr>\n",
       "  </tbody>\n",
       "</table>\n",
       "<p>100 rows × 3 columns</p>\n",
       "</div>"
      ],
      "text/plain": [
       "                                                titre           auteur rates\n",
       "0             The Hunger Games (The Hunger Games, #1)  Suzanne Collins  4.32\n",
       "1   Harry Potter and the Order of the Phoenix (Har...     J.K. Rowling  4.50\n",
       "2                               To Kill a Mockingbird       Harper Lee  4.27\n",
       "3                                 Pride and Prejudice      Jane Austen  4.28\n",
       "4                    Twilight (The Twilight Saga, #1)  Stephenie Meyer  3.62\n",
       "..                                                ...              ...   ...\n",
       "95                    The Notebook (The Notebook, #1)  Nicholas Sparks  4.12\n",
       "96              Winnie-the-Pooh (Winnie-the-Pooh, #1)       A.A. Milne  4.33\n",
       "97                     The Complete Stories and Poems  Edgar Allan Poe  4.37\n",
       "98  Interview with the Vampire (The Vampire Chroni...        Anne Rice  4.01\n",
       "99                            A Prayer for Owen Meany      John Irving  4.23\n",
       "\n",
       "[100 rows x 3 columns]"
      ]
     },
     "execution_count": 23,
     "metadata": {},
     "output_type": "execute_result"
    }
   ],
   "source": [
    "dataframe"
   ]
  },
  {
   "cell_type": "code",
   "execution_count": 24,
   "id": "4ae379ab",
   "metadata": {},
   "outputs": [],
   "source": [
    "dataframe.to_csv('books.csv', index=False)"
   ]
  },
  {
   "cell_type": "markdown",
   "id": "636639d9",
   "metadata": {},
   "source": [
    "# Going forward\n",
    "\n",
    "Essayer de scrapper de la méme maniére la totalité des pages (100) qui chacune contiennent 100 livres\n",
    "Vous n'avez pas accés au javascript mais juste a des pages statiques"
   ]
  },
  {
   "cell_type": "markdown",
   "id": "b0871588",
   "metadata": {},
   "source": [
    "Le code présent sur ce notebook devra être retravailler pour ce faire"
   ]
  },
  {
   "cell_type": "code",
   "execution_count": null,
   "id": "1224b1a0",
   "metadata": {},
   "outputs": [],
   "source": []
  }
 ],
 "metadata": {
  "kernelspec": {
   "display_name": "Python 3 (ipykernel)",
   "language": "python",
   "name": "python3"
  },
  "language_info": {
   "codemirror_mode": {
    "name": "ipython",
    "version": 3
   },
   "file_extension": ".py",
   "mimetype": "text/x-python",
   "name": "python",
   "nbconvert_exporter": "python",
   "pygments_lexer": "ipython3",
   "version": "3.7.11"
  }
 },
 "nbformat": 4,
 "nbformat_minor": 5
}
