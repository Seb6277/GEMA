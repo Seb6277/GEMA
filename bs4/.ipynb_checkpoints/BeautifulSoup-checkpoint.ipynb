{
 "cells": [
  {
   "cell_type": "markdown",
   "id": "ce564fb5",
   "metadata": {},
   "source": [
    "## Installation"
   ]
  },
  {
   "cell_type": "code",
   "execution_count": 2,
   "id": "44da625f",
   "metadata": {},
   "outputs": [
    {
     "name": "stdout",
     "output_type": "stream",
     "text": [
      "Collecting bs4\n",
      "  Using cached bs4-0.0.1.tar.gz (1.1 kB)\n",
      "  Preparing metadata (setup.py) ... \u001b[?25ldone\n",
      "\u001b[?25hCollecting beautifulsoup4\n",
      "  Downloading beautifulsoup4-4.10.0-py3-none-any.whl (97 kB)\n",
      "     |████████████████████████████████| 97 kB 830 kB/s            \n",
      "\u001b[?25hCollecting soupsieve>1.2\n",
      "  Downloading soupsieve-2.3.1-py3-none-any.whl (37 kB)\n",
      "Building wheels for collected packages: bs4\n",
      "  Building wheel for bs4 (setup.py) ... \u001b[?25ldone\n",
      "\u001b[?25h  Created wheel for bs4: filename=bs4-0.0.1-py3-none-any.whl size=1272 sha256=abc89d17e4fedf23b63f1a6147638c5673f831ec91361a53e1e042e9b6111850\n",
      "  Stored in directory: /home/seb/.cache/pip/wheels/0a/9e/ba/20e5bbc1afef3a491f0b3bb74d508f99403aabe76eda2167ca\n",
      "Successfully built bs4\n",
      "Installing collected packages: soupsieve, beautifulsoup4, bs4\n",
      "Successfully installed beautifulsoup4-4.10.0 bs4-0.0.1 soupsieve-2.3.1\n"
     ]
    }
   ],
   "source": [
    "!pip install bs4"
   ]
  },
  {
   "cell_type": "markdown",
   "id": "8d456101",
   "metadata": {},
   "source": [
    "## Import"
   ]
  },
  {
   "cell_type": "code",
   "execution_count": 3,
   "id": "203b8534",
   "metadata": {},
   "outputs": [],
   "source": [
    "from bs4 import BeautifulSoup"
   ]
  },
  {
   "cell_type": "code",
   "execution_count": 4,
   "id": "e718533c",
   "metadata": {},
   "outputs": [],
   "source": [
    "from urllib.request import urlopen\n",
    "import pandas"
   ]
  },
  {
   "cell_type": "markdown",
   "id": "c7225fb6",
   "metadata": {},
   "source": [
    "### Ici on rensigne la page cible"
   ]
  },
  {
   "cell_type": "code",
   "execution_count": 5,
   "id": "ec130c63",
   "metadata": {},
   "outputs": [],
   "source": [
    "page_sc = urlopen('https://www.goodreads.com/list/show/1.Best_Books_Ever')"
   ]
  },
  {
   "cell_type": "code",
   "execution_count": 6,
   "id": "9d1d4dd2",
   "metadata": {},
   "outputs": [],
   "source": [
    "soup = BeautifulSoup(page_sc, 'html.parser')"
   ]
  },
  {
   "cell_type": "code",
   "execution_count": 9,
   "id": "40d56db7",
   "metadata": {},
   "outputs": [],
   "source": [
    "livre = soup.find_all(name = 'span', attrs={'itemprop': 'name', 'role': 'heading'})"
   ]
  },
  {
   "cell_type": "code",
   "execution_count": 11,
   "id": "d2e1dd1d",
   "metadata": {},
   "outputs": [
    {
     "data": {
      "text/plain": [
       "[<span aria-level=\"4\" itemprop=\"name\" role=\"heading\">The Hunger Games (The Hunger Games, #1)</span>,\n",
       " <span aria-level=\"4\" itemprop=\"name\" role=\"heading\">Harry Potter and the Order of the Phoenix (Harry Potter, #5)</span>,\n",
       " <span aria-level=\"4\" itemprop=\"name\" role=\"heading\">To Kill a Mockingbird</span>,\n",
       " <span aria-level=\"4\" itemprop=\"name\" role=\"heading\">Pride and Prejudice</span>,\n",
       " <span aria-level=\"4\" itemprop=\"name\" role=\"heading\">Twilight (The Twilight Saga, #1)</span>,\n",
       " <span aria-level=\"4\" itemprop=\"name\" role=\"heading\">The Book Thief</span>,\n",
       " <span aria-level=\"4\" itemprop=\"name\" role=\"heading\">Animal Farm</span>,\n",
       " <span aria-level=\"4\" itemprop=\"name\" role=\"heading\">The Chronicles of Narnia (Chronicles of Narnia, #1-7)</span>,\n",
       " <span aria-level=\"4\" itemprop=\"name\" role=\"heading\">J.R.R. Tolkien 4-Book Boxed Set: The Hobbit and The Lord of the Rings</span>,\n",
       " <span aria-level=\"4\" itemprop=\"name\" role=\"heading\">The Fault in Our Stars</span>,\n",
       " <span aria-level=\"4\" itemprop=\"name\" role=\"heading\">Gone with the Wind</span>,\n",
       " <span aria-level=\"4\" itemprop=\"name\" role=\"heading\">The Hitchhiker's Guide to the Galaxy (Hitchhiker's Guide to the Galaxy, #1)</span>,\n",
       " <span aria-level=\"4\" itemprop=\"name\" role=\"heading\">The Giving Tree</span>,\n",
       " <span aria-level=\"4\" itemprop=\"name\" role=\"heading\">Wuthering Heights</span>,\n",
       " <span aria-level=\"4\" itemprop=\"name\" role=\"heading\">The Picture of Dorian Gray</span>,\n",
       " <span aria-level=\"4\" itemprop=\"name\" role=\"heading\">The Da Vinci Code (Robert Langdon, #2)</span>,\n",
       " <span aria-level=\"4\" itemprop=\"name\" role=\"heading\">Jane Eyre</span>,\n",
       " <span aria-level=\"4\" itemprop=\"name\" role=\"heading\">Memoirs of a Geisha</span>,\n",
       " <span aria-level=\"4\" itemprop=\"name\" role=\"heading\">Alice's Adventures in Wonderland / Through the Looking-Glass</span>,\n",
       " <span aria-level=\"4\" itemprop=\"name\" role=\"heading\">The Perks of Being a Wallflower</span>,\n",
       " <span aria-level=\"4\" itemprop=\"name\" role=\"heading\">Harry Potter and the Sorcerer's Stone (Harry Potter, #1)</span>,\n",
       " <span aria-level=\"4\" itemprop=\"name\" role=\"heading\">Fahrenheit 451</span>,\n",
       " <span aria-level=\"4\" itemprop=\"name\" role=\"heading\">Les Misérables</span>,\n",
       " <span aria-level=\"4\" itemprop=\"name\" role=\"heading\">Divergent (Divergent, #1)</span>,\n",
       " <span aria-level=\"4\" itemprop=\"name\" role=\"heading\">The Great Gatsby</span>,\n",
       " <span aria-level=\"4\" itemprop=\"name\" role=\"heading\">The Alchemist</span>,\n",
       " <span aria-level=\"4\" itemprop=\"name\" role=\"heading\">Crime and Punishment</span>,\n",
       " <span aria-level=\"4\" itemprop=\"name\" role=\"heading\">Lord of the Flies</span>,\n",
       " <span aria-level=\"4\" itemprop=\"name\" role=\"heading\">Romeo and Juliet</span>,\n",
       " <span aria-level=\"4\" itemprop=\"name\" role=\"heading\">The Little Prince</span>,\n",
       " <span aria-level=\"4\" itemprop=\"name\" role=\"heading\">City of Bones (The Mortal Instruments, #1)</span>,\n",
       " <span aria-level=\"4\" itemprop=\"name\" role=\"heading\">Anne of Green Gables (Anne of Green Gables, #1)</span>,\n",
       " <span aria-level=\"4\" itemprop=\"name\" role=\"heading\">The Help</span>,\n",
       " <span aria-level=\"4\" itemprop=\"name\" role=\"heading\">Ender's Game (Ender's Saga, #1)</span>,\n",
       " <span aria-level=\"4\" itemprop=\"name\" role=\"heading\">The Lightning Thief (Percy Jackson and the Olympians, #1)</span>,\n",
       " <span aria-level=\"4\" itemprop=\"name\" role=\"heading\">Charlotte's Web</span>,\n",
       " <span aria-level=\"4\" itemprop=\"name\" role=\"heading\">Of Mice and Men</span>,\n",
       " <span aria-level=\"4\" itemprop=\"name\" role=\"heading\">Dracula</span>,\n",
       " <span aria-level=\"4\" itemprop=\"name\" role=\"heading\">The Time Traveler's Wife</span>,\n",
       " <span aria-level=\"4\" itemprop=\"name\" role=\"heading\">Brave New World</span>,\n",
       " <span aria-level=\"4\" itemprop=\"name\" role=\"heading\">One Hundred Years of Solitude</span>,\n",
       " <span aria-level=\"4\" itemprop=\"name\" role=\"heading\">The Catcher in the Rye</span>,\n",
       " <span aria-level=\"4\" itemprop=\"name\" role=\"heading\">The Princess Bride</span>,\n",
       " <span aria-level=\"4\" itemprop=\"name\" role=\"heading\">A Thousand Splendid Suns</span>,\n",
       " <span aria-level=\"4\" itemprop=\"name\" role=\"heading\">The Secret Garden</span>,\n",
       " <span aria-level=\"4\" itemprop=\"name\" role=\"heading\">A Game of Thrones (A Song of Ice and Fire, #1)</span>,\n",
       " <span aria-level=\"4\" itemprop=\"name\" role=\"heading\">A Wrinkle in Time (Time Quintet, #1)</span>,\n",
       " <span aria-level=\"4\" itemprop=\"name\" role=\"heading\">The Outsiders</span>,\n",
       " <span aria-level=\"4\" itemprop=\"name\" role=\"heading\">The Adventures of Huckleberry Finn</span>,\n",
       " <span aria-level=\"4\" itemprop=\"name\" role=\"heading\">The Odyssey</span>,\n",
       " <span aria-level=\"4\" itemprop=\"name\" role=\"heading\">The Lovely Bones</span>,\n",
       " <span aria-level=\"4\" itemprop=\"name\" role=\"heading\">Where the Wild Things Are</span>,\n",
       " <span aria-level=\"4\" itemprop=\"name\" role=\"heading\">Green Eggs and Ham</span>,\n",
       " <span aria-level=\"4\" itemprop=\"name\" role=\"heading\">Life of Pi</span>,\n",
       " <span aria-level=\"4\" itemprop=\"name\" role=\"heading\">A Tale of Two Cities</span>,\n",
       " <span aria-level=\"4\" itemprop=\"name\" role=\"heading\">The Kite Runner</span>,\n",
       " <span aria-level=\"4\" itemprop=\"name\" role=\"heading\">Lolita</span>,\n",
       " <span aria-level=\"4\" itemprop=\"name\" role=\"heading\">Water for Elephants</span>,\n",
       " <span aria-level=\"4\" itemprop=\"name\" role=\"heading\">Frankenstein: The 1818 Text</span>,\n",
       " <span aria-level=\"4\" itemprop=\"name\" role=\"heading\">The Handmaid's Tale (The Handmaid's Tale, #1)</span>,\n",
       " <span aria-level=\"4\" itemprop=\"name\" role=\"heading\">The Giver (The Giver, #1)</span>,\n",
       " <span aria-level=\"4\" itemprop=\"name\" role=\"heading\">Slaughterhouse-Five</span>,\n",
       " <span aria-level=\"4\" itemprop=\"name\" role=\"heading\">Little Women</span>,\n",
       " <span aria-level=\"4\" itemprop=\"name\" role=\"heading\">Dune (Dune, #1)</span>,\n",
       " <span aria-level=\"4\" itemprop=\"name\" role=\"heading\">Harry Potter and the Deathly Hallows (Harry Potter, #7)</span>,\n",
       " <span aria-level=\"4\" itemprop=\"name\" role=\"heading\">1984</span>,\n",
       " <span aria-level=\"4\" itemprop=\"name\" role=\"heading\">Catch-22</span>,\n",
       " <span aria-level=\"4\" itemprop=\"name\" role=\"heading\">The Stand</span>,\n",
       " <span aria-level=\"4\" itemprop=\"name\" role=\"heading\">The Pillars of the Earth (Kingsbridge, #1)</span>,\n",
       " <span aria-level=\"4\" itemprop=\"name\" role=\"heading\">The Adventures of Sherlock Holmes (Sherlock Holmes, #3)</span>,\n",
       " <span aria-level=\"4\" itemprop=\"name\" role=\"heading\">Watership Down (Watership Down, #1)</span>,\n",
       " <span aria-level=\"4\" itemprop=\"name\" role=\"heading\">The Bell Jar</span>,\n",
       " <span aria-level=\"4\" itemprop=\"name\" role=\"heading\">Matilda</span>,\n",
       " <span aria-level=\"4\" itemprop=\"name\" role=\"heading\">Great Expectations</span>,\n",
       " <span aria-level=\"4\" itemprop=\"name\" role=\"heading\">Anna Karenina</span>,\n",
       " <span aria-level=\"4\" itemprop=\"name\" role=\"heading\">The Fellowship of the Ring (The Lord of the Rings, #1)</span>,\n",
       " <span aria-level=\"4\" itemprop=\"name\" role=\"heading\">One Flew Over the Cuckoo's Nest</span>,\n",
       " <span aria-level=\"4\" itemprop=\"name\" role=\"heading\">Outlander (Outlander, #1)</span>,\n",
       " <span aria-level=\"4\" itemprop=\"name\" role=\"heading\">The Girl with the Dragon Tattoo (Millennium, #1)</span>,\n",
       " <span aria-level=\"4\" itemprop=\"name\" role=\"heading\">Rebecca</span>,\n",
       " <span aria-level=\"4\" itemprop=\"name\" role=\"heading\">My Sister's Keeper</span>,\n",
       " <span aria-level=\"4\" itemprop=\"name\" role=\"heading\">Harry Potter and the Prisoner of Azkaban (Harry Potter, #3)</span>,\n",
       " <span aria-level=\"4\" itemprop=\"name\" role=\"heading\">The Color Purple</span>,\n",
       " <span aria-level=\"4\" itemprop=\"name\" role=\"heading\">A Tree Grows in Brooklyn</span>,\n",
       " <span aria-level=\"4\" itemprop=\"name\" role=\"heading\">The Brothers Karamazov</span>,\n",
       " <span aria-level=\"4\" itemprop=\"name\" role=\"heading\">A Clockwork Orange</span>,\n",
       " <span aria-level=\"4\" itemprop=\"name\" role=\"heading\">The Road</span>,\n",
       " <span aria-level=\"4\" itemprop=\"name\" role=\"heading\">Angela's Ashes (Frank McCourt, #1)</span>,\n",
       " <span aria-level=\"4\" itemprop=\"name\" role=\"heading\">Vampire Academy (Vampire Academy, #1)</span>,\n",
       " <span aria-level=\"4\" itemprop=\"name\" role=\"heading\">Siddhartha</span>,\n",
       " <span aria-level=\"4\" itemprop=\"name\" role=\"heading\">The Golden Compass (His Dark Materials, #1)</span>,\n",
       " <span aria-level=\"4\" itemprop=\"name\" role=\"heading\">The Poisonwood Bible</span>,\n",
       " <span aria-level=\"4\" itemprop=\"name\" role=\"heading\">Don Quixote</span>,\n",
       " <span aria-level=\"4\" itemprop=\"name\" role=\"heading\">Atlas Shrugged</span>,\n",
       " <span aria-level=\"4\" itemprop=\"name\" role=\"heading\">The Old Man and the Sea</span>,\n",
       " <span aria-level=\"4\" itemprop=\"name\" role=\"heading\">The Notebook (The Notebook, #1)</span>,\n",
       " <span aria-level=\"4\" itemprop=\"name\" role=\"heading\">Winnie-the-Pooh (Winnie-the-Pooh, #1)</span>,\n",
       " <span aria-level=\"4\" itemprop=\"name\" role=\"heading\">The Complete Stories and Poems</span>,\n",
       " <span aria-level=\"4\" itemprop=\"name\" role=\"heading\">Interview with the Vampire (The Vampire Chronicles, #1)</span>,\n",
       " <span aria-level=\"4\" itemprop=\"name\" role=\"heading\">A Prayer for Owen Meany</span>]"
      ]
     },
     "execution_count": 11,
     "metadata": {},
     "output_type": "execute_result"
    }
   ],
   "source": [
    "livre"
   ]
  },
  {
   "cell_type": "markdown",
   "id": "5f84bc66",
   "metadata": {},
   "source": [
    "On constate que l'ont récupére bien toutes les balises contenant les titres de livre\n",
    "\n",
    "On peux cependant récupéré les auteurs associé en simplifiant notre filtre"
   ]
  },
  {
   "cell_type": "code",
   "execution_count": 12,
   "id": "69f2e891",
   "metadata": {},
   "outputs": [],
   "source": [
    "livre = soup.find_all(name = 'span', attrs={'itemprop': 'name'})"
   ]
  },
  {
   "cell_type": "code",
   "execution_count": 13,
   "id": "72e8d99e",
   "metadata": {},
   "outputs": [
    {
     "data": {
      "text/plain": [
       "[<span aria-level=\"4\" itemprop=\"name\" role=\"heading\">The Hunger Games (The Hunger Games, #1)</span>,\n",
       " <span itemprop=\"name\">Suzanne Collins</span>,\n",
       " <span aria-level=\"4\" itemprop=\"name\" role=\"heading\">Harry Potter and the Order of the Phoenix (Harry Potter, #5)</span>,\n",
       " <span itemprop=\"name\">J.K. Rowling</span>,\n",
       " <span aria-level=\"4\" itemprop=\"name\" role=\"heading\">To Kill a Mockingbird</span>,\n",
       " <span itemprop=\"name\">Harper Lee</span>,\n",
       " <span aria-level=\"4\" itemprop=\"name\" role=\"heading\">Pride and Prejudice</span>,\n",
       " <span itemprop=\"name\">Jane Austen</span>,\n",
       " <span aria-level=\"4\" itemprop=\"name\" role=\"heading\">Twilight (The Twilight Saga, #1)</span>,\n",
       " <span itemprop=\"name\">Stephenie Meyer</span>,\n",
       " <span aria-level=\"4\" itemprop=\"name\" role=\"heading\">The Book Thief</span>,\n",
       " <span itemprop=\"name\">Markus Zusak</span>,\n",
       " <span aria-level=\"4\" itemprop=\"name\" role=\"heading\">Animal Farm</span>,\n",
       " <span itemprop=\"name\">George Orwell</span>,\n",
       " <span aria-level=\"4\" itemprop=\"name\" role=\"heading\">The Chronicles of Narnia (Chronicles of Narnia, #1-7)</span>,\n",
       " <span itemprop=\"name\">C.S. Lewis</span>,\n",
       " <span aria-level=\"4\" itemprop=\"name\" role=\"heading\">J.R.R. Tolkien 4-Book Boxed Set: The Hobbit and The Lord of the Rings</span>,\n",
       " <span itemprop=\"name\">J.R.R. Tolkien</span>,\n",
       " <span aria-level=\"4\" itemprop=\"name\" role=\"heading\">The Fault in Our Stars</span>,\n",
       " <span itemprop=\"name\">John Green</span>,\n",
       " <span aria-level=\"4\" itemprop=\"name\" role=\"heading\">Gone with the Wind</span>,\n",
       " <span itemprop=\"name\">Margaret Mitchell</span>,\n",
       " <span aria-level=\"4\" itemprop=\"name\" role=\"heading\">The Hitchhiker's Guide to the Galaxy (Hitchhiker's Guide to the Galaxy, #1)</span>,\n",
       " <span itemprop=\"name\">Douglas Adams</span>,\n",
       " <span aria-level=\"4\" itemprop=\"name\" role=\"heading\">The Giving Tree</span>,\n",
       " <span itemprop=\"name\">Shel Silverstein</span>,\n",
       " <span aria-level=\"4\" itemprop=\"name\" role=\"heading\">Wuthering Heights</span>,\n",
       " <span itemprop=\"name\">Emily Brontë</span>,\n",
       " <span aria-level=\"4\" itemprop=\"name\" role=\"heading\">The Picture of Dorian Gray</span>,\n",
       " <span itemprop=\"name\">Oscar Wilde</span>,\n",
       " <span aria-level=\"4\" itemprop=\"name\" role=\"heading\">The Da Vinci Code (Robert Langdon, #2)</span>,\n",
       " <span itemprop=\"name\">Dan Brown</span>,\n",
       " <span aria-level=\"4\" itemprop=\"name\" role=\"heading\">Jane Eyre</span>,\n",
       " <span itemprop=\"name\">Charlotte Brontë</span>,\n",
       " <span aria-level=\"4\" itemprop=\"name\" role=\"heading\">Memoirs of a Geisha</span>,\n",
       " <span itemprop=\"name\">Arthur Golden</span>,\n",
       " <span aria-level=\"4\" itemprop=\"name\" role=\"heading\">Alice's Adventures in Wonderland / Through the Looking-Glass</span>,\n",
       " <span itemprop=\"name\">Lewis Carroll</span>,\n",
       " <span aria-level=\"4\" itemprop=\"name\" role=\"heading\">The Perks of Being a Wallflower</span>,\n",
       " <span itemprop=\"name\">Stephen Chbosky</span>,\n",
       " <span aria-level=\"4\" itemprop=\"name\" role=\"heading\">Harry Potter and the Sorcerer's Stone (Harry Potter, #1)</span>,\n",
       " <span itemprop=\"name\">J.K. Rowling</span>,\n",
       " <span aria-level=\"4\" itemprop=\"name\" role=\"heading\">Fahrenheit 451</span>,\n",
       " <span itemprop=\"name\">Ray Bradbury</span>,\n",
       " <span aria-level=\"4\" itemprop=\"name\" role=\"heading\">Les Misérables</span>,\n",
       " <span itemprop=\"name\">Victor Hugo</span>,\n",
       " <span aria-level=\"4\" itemprop=\"name\" role=\"heading\">Divergent (Divergent, #1)</span>,\n",
       " <span itemprop=\"name\">Veronica Roth</span>,\n",
       " <span aria-level=\"4\" itemprop=\"name\" role=\"heading\">The Great Gatsby</span>,\n",
       " <span itemprop=\"name\">F. Scott Fitzgerald</span>,\n",
       " <span aria-level=\"4\" itemprop=\"name\" role=\"heading\">The Alchemist</span>,\n",
       " <span itemprop=\"name\">Paulo Coelho</span>,\n",
       " <span aria-level=\"4\" itemprop=\"name\" role=\"heading\">Crime and Punishment</span>,\n",
       " <span itemprop=\"name\">Fyodor Dostoevsky</span>,\n",
       " <span aria-level=\"4\" itemprop=\"name\" role=\"heading\">Lord of the Flies</span>,\n",
       " <span itemprop=\"name\">William Golding</span>,\n",
       " <span aria-level=\"4\" itemprop=\"name\" role=\"heading\">Romeo and Juliet</span>,\n",
       " <span itemprop=\"name\">William Shakespeare</span>,\n",
       " <span aria-level=\"4\" itemprop=\"name\" role=\"heading\">The Little Prince</span>,\n",
       " <span itemprop=\"name\">Antoine de Saint-Exupéry</span>,\n",
       " <span aria-level=\"4\" itemprop=\"name\" role=\"heading\">City of Bones (The Mortal Instruments, #1)</span>,\n",
       " <span itemprop=\"name\">Cassandra Clare</span>,\n",
       " <span aria-level=\"4\" itemprop=\"name\" role=\"heading\">Anne of Green Gables (Anne of Green Gables, #1)</span>,\n",
       " <span itemprop=\"name\">L.M. Montgomery</span>,\n",
       " <span aria-level=\"4\" itemprop=\"name\" role=\"heading\">The Help</span>,\n",
       " <span itemprop=\"name\">Kathryn Stockett</span>,\n",
       " <span aria-level=\"4\" itemprop=\"name\" role=\"heading\">Ender's Game (Ender's Saga, #1)</span>,\n",
       " <span itemprop=\"name\">Orson Scott Card</span>,\n",
       " <span aria-level=\"4\" itemprop=\"name\" role=\"heading\">The Lightning Thief (Percy Jackson and the Olympians, #1)</span>,\n",
       " <span itemprop=\"name\">Rick Riordan</span>,\n",
       " <span aria-level=\"4\" itemprop=\"name\" role=\"heading\">Charlotte's Web</span>,\n",
       " <span itemprop=\"name\">E.B. White</span>,\n",
       " <span aria-level=\"4\" itemprop=\"name\" role=\"heading\">Of Mice and Men</span>,\n",
       " <span itemprop=\"name\">John Steinbeck</span>,\n",
       " <span aria-level=\"4\" itemprop=\"name\" role=\"heading\">Dracula</span>,\n",
       " <span itemprop=\"name\">Bram Stoker</span>,\n",
       " <span aria-level=\"4\" itemprop=\"name\" role=\"heading\">The Time Traveler's Wife</span>,\n",
       " <span itemprop=\"name\">Audrey Niffenegger</span>,\n",
       " <span aria-level=\"4\" itemprop=\"name\" role=\"heading\">Brave New World</span>,\n",
       " <span itemprop=\"name\">Aldous Huxley</span>,\n",
       " <span aria-level=\"4\" itemprop=\"name\" role=\"heading\">One Hundred Years of Solitude</span>,\n",
       " <span itemprop=\"name\">Gabriel García Márquez</span>,\n",
       " <span aria-level=\"4\" itemprop=\"name\" role=\"heading\">The Catcher in the Rye</span>,\n",
       " <span itemprop=\"name\">J.D. Salinger</span>,\n",
       " <span aria-level=\"4\" itemprop=\"name\" role=\"heading\">The Princess Bride</span>,\n",
       " <span itemprop=\"name\">William Goldman</span>,\n",
       " <span aria-level=\"4\" itemprop=\"name\" role=\"heading\">A Thousand Splendid Suns</span>,\n",
       " <span itemprop=\"name\">Khaled Hosseini</span>,\n",
       " <span aria-level=\"4\" itemprop=\"name\" role=\"heading\">The Secret Garden</span>,\n",
       " <span itemprop=\"name\">Frances Hodgson Burnett</span>,\n",
       " <span aria-level=\"4\" itemprop=\"name\" role=\"heading\">A Game of Thrones (A Song of Ice and Fire, #1)</span>,\n",
       " <span itemprop=\"name\">George R.R. Martin</span>,\n",
       " <span aria-level=\"4\" itemprop=\"name\" role=\"heading\">A Wrinkle in Time (Time Quintet, #1)</span>,\n",
       " <span itemprop=\"name\">Madeleine L'Engle</span>,\n",
       " <span aria-level=\"4\" itemprop=\"name\" role=\"heading\">The Outsiders</span>,\n",
       " <span itemprop=\"name\">S.E. Hinton</span>,\n",
       " <span aria-level=\"4\" itemprop=\"name\" role=\"heading\">The Adventures of Huckleberry Finn</span>,\n",
       " <span itemprop=\"name\">Mark Twain</span>,\n",
       " <span aria-level=\"4\" itemprop=\"name\" role=\"heading\">The Odyssey</span>,\n",
       " <span itemprop=\"name\">Homer</span>,\n",
       " <span aria-level=\"4\" itemprop=\"name\" role=\"heading\">The Lovely Bones</span>,\n",
       " <span itemprop=\"name\">Alice Sebold</span>,\n",
       " <span aria-level=\"4\" itemprop=\"name\" role=\"heading\">Where the Wild Things Are</span>,\n",
       " <span itemprop=\"name\">Maurice Sendak</span>,\n",
       " <span aria-level=\"4\" itemprop=\"name\" role=\"heading\">Green Eggs and Ham</span>,\n",
       " <span itemprop=\"name\">Dr. Seuss</span>,\n",
       " <span aria-level=\"4\" itemprop=\"name\" role=\"heading\">Life of Pi</span>,\n",
       " <span itemprop=\"name\">Yann Martel</span>,\n",
       " <span aria-level=\"4\" itemprop=\"name\" role=\"heading\">A Tale of Two Cities</span>,\n",
       " <span itemprop=\"name\">Charles Dickens</span>,\n",
       " <span aria-level=\"4\" itemprop=\"name\" role=\"heading\">The Kite Runner</span>,\n",
       " <span itemprop=\"name\">Khaled Hosseini</span>,\n",
       " <span aria-level=\"4\" itemprop=\"name\" role=\"heading\">Lolita</span>,\n",
       " <span itemprop=\"name\">Vladimir Nabokov</span>,\n",
       " <span aria-level=\"4\" itemprop=\"name\" role=\"heading\">Water for Elephants</span>,\n",
       " <span itemprop=\"name\">Sara Gruen</span>,\n",
       " <span aria-level=\"4\" itemprop=\"name\" role=\"heading\">Frankenstein: The 1818 Text</span>,\n",
       " <span itemprop=\"name\">Mary Wollstonecraft Shelley</span>,\n",
       " <span aria-level=\"4\" itemprop=\"name\" role=\"heading\">The Handmaid's Tale (The Handmaid's Tale, #1)</span>,\n",
       " <span itemprop=\"name\">Margaret Atwood</span>,\n",
       " <span aria-level=\"4\" itemprop=\"name\" role=\"heading\">The Giver (The Giver, #1)</span>,\n",
       " <span itemprop=\"name\">Lois Lowry</span>,\n",
       " <span aria-level=\"4\" itemprop=\"name\" role=\"heading\">Slaughterhouse-Five</span>,\n",
       " <span itemprop=\"name\">Kurt Vonnegut Jr.</span>,\n",
       " <span aria-level=\"4\" itemprop=\"name\" role=\"heading\">Little Women</span>,\n",
       " <span itemprop=\"name\">Louisa May Alcott</span>,\n",
       " <span aria-level=\"4\" itemprop=\"name\" role=\"heading\">Dune (Dune, #1)</span>,\n",
       " <span itemprop=\"name\">Frank Herbert</span>,\n",
       " <span aria-level=\"4\" itemprop=\"name\" role=\"heading\">Harry Potter and the Deathly Hallows (Harry Potter, #7)</span>,\n",
       " <span itemprop=\"name\">J.K. Rowling</span>,\n",
       " <span aria-level=\"4\" itemprop=\"name\" role=\"heading\">1984</span>,\n",
       " <span itemprop=\"name\">George Orwell</span>,\n",
       " <span aria-level=\"4\" itemprop=\"name\" role=\"heading\">Catch-22</span>,\n",
       " <span itemprop=\"name\">Joseph Heller</span>,\n",
       " <span aria-level=\"4\" itemprop=\"name\" role=\"heading\">The Stand</span>,\n",
       " <span itemprop=\"name\">Stephen King</span>,\n",
       " <span aria-level=\"4\" itemprop=\"name\" role=\"heading\">The Pillars of the Earth (Kingsbridge, #1)</span>,\n",
       " <span itemprop=\"name\">Ken Follett</span>,\n",
       " <span aria-level=\"4\" itemprop=\"name\" role=\"heading\">The Adventures of Sherlock Holmes (Sherlock Holmes, #3)</span>,\n",
       " <span itemprop=\"name\">Arthur Conan Doyle</span>,\n",
       " <span aria-level=\"4\" itemprop=\"name\" role=\"heading\">Watership Down (Watership Down, #1)</span>,\n",
       " <span itemprop=\"name\">Richard  Adams</span>,\n",
       " <span aria-level=\"4\" itemprop=\"name\" role=\"heading\">The Bell Jar</span>,\n",
       " <span itemprop=\"name\">Sylvia Plath</span>,\n",
       " <span aria-level=\"4\" itemprop=\"name\" role=\"heading\">Matilda</span>,\n",
       " <span itemprop=\"name\">Roald Dahl</span>,\n",
       " <span aria-level=\"4\" itemprop=\"name\" role=\"heading\">Great Expectations</span>,\n",
       " <span itemprop=\"name\">Charles Dickens</span>,\n",
       " <span aria-level=\"4\" itemprop=\"name\" role=\"heading\">Anna Karenina</span>,\n",
       " <span itemprop=\"name\">Leo Tolstoy</span>,\n",
       " <span aria-level=\"4\" itemprop=\"name\" role=\"heading\">The Fellowship of the Ring (The Lord of the Rings, #1)</span>,\n",
       " <span itemprop=\"name\">J.R.R. Tolkien</span>,\n",
       " <span aria-level=\"4\" itemprop=\"name\" role=\"heading\">One Flew Over the Cuckoo's Nest</span>,\n",
       " <span itemprop=\"name\">Ken Kesey</span>,\n",
       " <span aria-level=\"4\" itemprop=\"name\" role=\"heading\">Outlander (Outlander, #1)</span>,\n",
       " <span itemprop=\"name\">Diana Gabaldon</span>,\n",
       " <span aria-level=\"4\" itemprop=\"name\" role=\"heading\">The Girl with the Dragon Tattoo (Millennium, #1)</span>,\n",
       " <span itemprop=\"name\">Stieg Larsson</span>,\n",
       " <span aria-level=\"4\" itemprop=\"name\" role=\"heading\">Rebecca</span>,\n",
       " <span itemprop=\"name\">Daphne du Maurier</span>,\n",
       " <span aria-level=\"4\" itemprop=\"name\" role=\"heading\">My Sister's Keeper</span>,\n",
       " <span itemprop=\"name\">Jodi Picoult</span>,\n",
       " <span aria-level=\"4\" itemprop=\"name\" role=\"heading\">Harry Potter and the Prisoner of Azkaban (Harry Potter, #3)</span>,\n",
       " <span itemprop=\"name\">J.K. Rowling</span>,\n",
       " <span aria-level=\"4\" itemprop=\"name\" role=\"heading\">The Color Purple</span>,\n",
       " <span itemprop=\"name\">Alice Walker</span>,\n",
       " <span aria-level=\"4\" itemprop=\"name\" role=\"heading\">A Tree Grows in Brooklyn</span>,\n",
       " <span itemprop=\"name\">Betty  Smith</span>,\n",
       " <span aria-level=\"4\" itemprop=\"name\" role=\"heading\">The Brothers Karamazov</span>,\n",
       " <span itemprop=\"name\">Fyodor Dostoevsky</span>,\n",
       " <span aria-level=\"4\" itemprop=\"name\" role=\"heading\">A Clockwork Orange</span>,\n",
       " <span itemprop=\"name\">Anthony Burgess</span>,\n",
       " <span aria-level=\"4\" itemprop=\"name\" role=\"heading\">The Road</span>,\n",
       " <span itemprop=\"name\">Cormac McCarthy</span>,\n",
       " <span aria-level=\"4\" itemprop=\"name\" role=\"heading\">Angela's Ashes (Frank McCourt, #1)</span>,\n",
       " <span itemprop=\"name\">Frank McCourt</span>,\n",
       " <span aria-level=\"4\" itemprop=\"name\" role=\"heading\">Vampire Academy (Vampire Academy, #1)</span>,\n",
       " <span itemprop=\"name\">Richelle Mead</span>,\n",
       " <span aria-level=\"4\" itemprop=\"name\" role=\"heading\">Siddhartha</span>,\n",
       " <span itemprop=\"name\">Hermann Hesse</span>,\n",
       " <span aria-level=\"4\" itemprop=\"name\" role=\"heading\">The Golden Compass (His Dark Materials, #1)</span>,\n",
       " <span itemprop=\"name\">Philip Pullman</span>,\n",
       " <span aria-level=\"4\" itemprop=\"name\" role=\"heading\">The Poisonwood Bible</span>,\n",
       " <span itemprop=\"name\">Barbara Kingsolver</span>,\n",
       " <span aria-level=\"4\" itemprop=\"name\" role=\"heading\">Don Quixote</span>,\n",
       " <span itemprop=\"name\">Miguel de Cervantes Saavedra</span>,\n",
       " <span aria-level=\"4\" itemprop=\"name\" role=\"heading\">Atlas Shrugged</span>,\n",
       " <span itemprop=\"name\">Ayn Rand</span>,\n",
       " <span aria-level=\"4\" itemprop=\"name\" role=\"heading\">The Old Man and the Sea</span>,\n",
       " <span itemprop=\"name\">Ernest Hemingway</span>,\n",
       " <span aria-level=\"4\" itemprop=\"name\" role=\"heading\">The Notebook (The Notebook, #1)</span>,\n",
       " <span itemprop=\"name\">Nicholas Sparks</span>,\n",
       " <span aria-level=\"4\" itemprop=\"name\" role=\"heading\">Winnie-the-Pooh (Winnie-the-Pooh, #1)</span>,\n",
       " <span itemprop=\"name\">A.A. Milne</span>,\n",
       " <span aria-level=\"4\" itemprop=\"name\" role=\"heading\">The Complete Stories and Poems</span>,\n",
       " <span itemprop=\"name\">Edgar Allan Poe</span>,\n",
       " <span aria-level=\"4\" itemprop=\"name\" role=\"heading\">Interview with the Vampire (The Vampire Chronicles, #1)</span>,\n",
       " <span itemprop=\"name\">Anne Rice</span>,\n",
       " <span aria-level=\"4\" itemprop=\"name\" role=\"heading\">A Prayer for Owen Meany</span>,\n",
       " <span itemprop=\"name\">John Irving</span>]"
      ]
     },
     "execution_count": 13,
     "metadata": {},
     "output_type": "execute_result"
    }
   ],
   "source": [
    "livre"
   ]
  },
  {
   "cell_type": "markdown",
   "id": "d4280b89",
   "metadata": {},
   "source": [
    "Nous avons maintenant un tableau contenant titre et auteur"
   ]
  },
  {
   "cell_type": "code",
   "execution_count": 18,
   "id": "c15b799b",
   "metadata": {},
   "outputs": [],
   "source": [
    "titre = []\n",
    "auteur = []"
   ]
  },
  {
   "cell_type": "code",
   "execution_count": 19,
   "id": "6006d515",
   "metadata": {},
   "outputs": [],
   "source": [
    "for i, element in enumerate(livre):\n",
    "    if i % 2 != 0:\n",
    "        auteur.append(element.text)\n",
    "    else:\n",
    "        titre.append(element.text)"
   ]
  },
  {
   "cell_type": "code",
   "execution_count": 22,
   "id": "938033a6",
   "metadata": {},
   "outputs": [
    {
     "data": {
      "text/plain": [
       "['The Hunger Games (The Hunger Games, #1)',\n",
       " 'Harry Potter and the Order of the Phoenix (Harry Potter, #5)',\n",
       " 'To Kill a Mockingbird',\n",
       " 'Pride and Prejudice',\n",
       " 'Twilight (The Twilight Saga, #1)']"
      ]
     },
     "execution_count": 22,
     "metadata": {},
     "output_type": "execute_result"
    }
   ],
   "source": [
    "titre[:5]"
   ]
  },
  {
   "cell_type": "code",
   "execution_count": 23,
   "id": "d71dac2a",
   "metadata": {},
   "outputs": [
    {
     "data": {
      "text/plain": [
       "['Suzanne Collins',\n",
       " 'J.K. Rowling',\n",
       " 'Harper Lee',\n",
       " 'Jane Austen',\n",
       " 'Stephenie Meyer']"
      ]
     },
     "execution_count": 23,
     "metadata": {},
     "output_type": "execute_result"
    }
   ],
   "source": [
    "auteur[:5]"
   ]
  },
  {
   "cell_type": "code",
   "execution_count": 24,
   "id": "65bfb0d1",
   "metadata": {},
   "outputs": [],
   "source": [
    "rating = soup.find_all(name = 'span', attrs={'class': 'minirating'})"
   ]
  },
  {
   "cell_type": "code",
   "execution_count": 29,
   "id": "5246f86b",
   "metadata": {
    "scrolled": true
   },
   "outputs": [
    {
     "name": "stdout",
     "output_type": "stream",
     "text": [
      " 4.32 avg rating — 7,203,960 ratings\n",
      " 4.50 avg rating — 2,860,639 ratings\n",
      " 4.27 avg rating — 5,137,212 ratings\n",
      " 4.27 avg rating — 3,492,072 ratings\n",
      " 3.62 avg rating — 5,604,915 ratings\n",
      " 4.38 avg rating — 2,114,785 ratings\n",
      " 3.97 avg rating — 3,172,441 ratings\n",
      " 4.26 avg rating — 577,047 ratings\n",
      " 4.60 avg rating — 120,508 ratings\n",
      " 4.17 avg rating — 4,186,290 ratings\n",
      " 4.30 avg rating — 1,140,114 ratings\n",
      " 4.22 avg rating — 1,606,968 ratings\n",
      " 4.37 avg rating — 1,000,232 ratings\n",
      " 3.87 avg rating — 1,520,723 ratings\n",
      " 4.10 avg rating — 1,155,298 ratings\n",
      " 3.88 avg rating — 2,113,355 ratings\n",
      " 4.14 avg rating — 1,812,913 ratings\n",
      " 4.13 avg rating — 1,837,946 ratings\n",
      " 4.06 avg rating — 502,583 ratings\n",
      " 4.21 avg rating — 1,457,337 ratings\n",
      " 4.48 avg rating — 8,253,872 ratings\n",
      " 3.98 avg rating — 1,959,228 ratings\n",
      " 4.19 avg rating — 732,113 ratings\n",
      " 4.17 avg rating — 3,346,053 ratings\n",
      " 3.93 avg rating — 4,321,513 ratings\n",
      " 3.89 avg rating — 2,457,582 ratings\n",
      " 4.24 avg rating — 725,115 ratings\n",
      " 3.69 avg rating — 2,520,030 ratings\n",
      " 3.75 avg rating — 2,272,906 ratings\n",
      " 4.31 avg rating — 1,661,491 ratings\n",
      " 4.09 avg rating — 1,794,869 ratings\n",
      " 4.27 avg rating — 832,705 ratings\n",
      " 4.46 avg rating — 2,401,858 ratings\n",
      " 4.30 avg rating — 1,235,114 ratings\n",
      " 4.28 avg rating — 2,360,381 ratings\n",
      " 4.18 avg rating — 1,591,866 ratings\n",
      " 3.88 avg rating — 2,173,575 ratings\n",
      "really liked it 4.00 avg rating — 1,061,669 ratings\n",
      " 3.98 avg rating — 1,667,458 ratings\n",
      " 3.99 avg rating — 1,607,905 ratings\n",
      " 4.10 avg rating — 836,361 ratings\n",
      " 3.81 avg rating — 3,046,018 ratings\n",
      " 4.26 avg rating — 835,072 ratings\n",
      " 4.40 avg rating — 1,295,578 ratings\n",
      " 4.14 avg rating — 1,008,494 ratings\n",
      " 4.44 avg rating — 2,197,300 ratings\n",
      " 3.99 avg rating — 1,112,763 ratings\n",
      " 4.11 avg rating — 1,088,030 ratings\n",
      " 3.82 avg rating — 1,202,768 ratings\n",
      " 3.79 avg rating — 943,280 ratings\n",
      " 3.83 avg rating — 2,163,097 ratings\n",
      " 4.22 avg rating — 903,771 ratings\n",
      " 4.29 avg rating — 690,123 ratings\n",
      " 3.92 avg rating — 1,459,198 ratings\n",
      " 3.86 avg rating — 867,155 ratings\n",
      " 4.32 avg rating — 2,708,498 ratings\n",
      " 3.88 avg rating — 728,255 ratings\n",
      " 4.10 avg rating — 1,482,862 ratings\n",
      " 3.83 avg rating — 1,313,234 ratings\n",
      " 4.12 avg rating — 1,693,663 ratings\n",
      " 4.13 avg rating — 2,052,612 ratings\n",
      " 4.08 avg rating — 1,224,983 ratings\n",
      " 4.11 avg rating — 1,891,932 ratings\n",
      " 4.25 avg rating — 1,018,033 ratings\n",
      " 4.62 avg rating — 3,173,218 ratings\n",
      " 4.19 avg rating — 3,698,264 ratings\n",
      " 3.98 avg rating — 771,375 ratings\n",
      " 4.34 avg rating — 680,676 ratings\n",
      " 4.32 avg rating — 696,462 ratings\n",
      " 4.30 avg rating — 268,462 ratings\n",
      " 4.07 avg rating — 454,898 ratings\n",
      " 4.03 avg rating — 694,145 ratings\n",
      " 4.32 avg rating — 772,223 ratings\n",
      " 3.79 avg rating — 713,974 ratings\n",
      " 4.07 avg rating — 739,039 ratings\n",
      " 4.37 avg rating — 2,540,838 ratings\n",
      " 4.19 avg rating — 673,506 ratings\n",
      " 4.24 avg rating — 921,143 ratings\n",
      " 4.15 avg rating — 2,862,112 ratings\n",
      " 4.23 avg rating — 529,334 ratings\n",
      " 4.08 avg rating — 1,123,011 ratings\n",
      " 4.58 avg rating — 3,328,601 ratings\n",
      " 4.24 avg rating — 579,236 ratings\n",
      " 4.28 avg rating — 417,197 ratings\n",
      " 4.34 avg rating — 272,727 ratings\n",
      "really liked it 4.00 avg rating — 650,520 ratings\n",
      " 3.97 avg rating — 785,234 ratings\n",
      " 4.12 avg rating — 581,700 ratings\n",
      " 4.11 avg rating — 600,628 ratings\n",
      " 4.05 avg rating — 656,215 ratings\n",
      "really liked it 4.00 avg rating — 1,393,742 ratings\n",
      " 4.07 avg rating — 691,551 ratings\n",
      " 3.88 avg rating — 235,057 ratings\n",
      " 3.69 avg rating — 370,423 ratings\n",
      " 3.79 avg rating — 952,257 ratings\n",
      " 4.12 avg rating — 1,470,871 ratings\n",
      " 4.33 avg rating — 298,975 ratings\n",
      " 4.37 avg rating — 232,904 ratings\n",
      " 4.01 avg rating — 524,342 ratings\n",
      " 4.23 avg rating — 299,361 ratings\n"
     ]
    }
   ],
   "source": [
    "for el in rating:\n",
    "    print(el.text)"
   ]
  },
  {
   "cell_type": "markdown",
   "id": "1925b5df",
   "metadata": {},
   "source": [
    "'really liked it 4.00 avg rating — 1,393,742 ratings' ses lignes vont nous géner"
   ]
  },
  {
   "cell_type": "code",
   "execution_count": 43,
   "id": "e5293215",
   "metadata": {},
   "outputs": [
    {
     "name": "stdout",
     "output_type": "stream",
     "text": [
      "Dracula 37\n",
      "A Clockwork Orange 85\n",
      "The Golden Compass (His Dark Materials, #1) 90\n"
     ]
    }
   ],
   "source": [
    "for idx, el in enumerate(rating):\n",
    "    if el.text.split(' ')[0] == 'really':\n",
    "        print(titre[idx] + ' ' + str(idx))"
   ]
  },
  {
   "cell_type": "code",
   "execution_count": 37,
   "id": "e4dd54d3",
   "metadata": {},
   "outputs": [],
   "source": [
    "rates = []"
   ]
  },
  {
   "cell_type": "code",
   "execution_count": 38,
   "id": "11a09425",
   "metadata": {},
   "outputs": [],
   "source": [
    "for el in rating:\n",
    "    if el.text.split(' ')[0] == 'really':\n",
    "        rates.append(el.text.split(' ')[3])\n",
    "    else:\n",
    "        rates.append(el.text.split(' ')[1])"
   ]
  },
  {
   "cell_type": "code",
   "execution_count": 44,
   "id": "b743ef34",
   "metadata": {
    "scrolled": true
   },
   "outputs": [
    {
     "data": {
      "text/plain": [
       "['4.32',\n",
       " '4.50',\n",
       " '4.27',\n",
       " '4.27',\n",
       " '3.62',\n",
       " '4.38',\n",
       " '3.97',\n",
       " '4.26',\n",
       " '4.60',\n",
       " '4.17',\n",
       " '4.30',\n",
       " '4.22',\n",
       " '4.37',\n",
       " '3.87',\n",
       " '4.10',\n",
       " '3.88',\n",
       " '4.14',\n",
       " '4.13',\n",
       " '4.06',\n",
       " '4.21',\n",
       " '4.48',\n",
       " '3.98',\n",
       " '4.19',\n",
       " '4.17',\n",
       " '3.93',\n",
       " '3.89',\n",
       " '4.24',\n",
       " '3.69',\n",
       " '3.75',\n",
       " '4.31',\n",
       " '4.09',\n",
       " '4.27',\n",
       " '4.46',\n",
       " '4.30',\n",
       " '4.28',\n",
       " '4.18',\n",
       " '3.88',\n",
       " '4.00',\n",
       " '3.98',\n",
       " '3.99']"
      ]
     },
     "execution_count": 44,
     "metadata": {},
     "output_type": "execute_result"
    }
   ],
   "source": [
    "rates[:40]"
   ]
  },
  {
   "cell_type": "code",
   "execution_count": 40,
   "id": "ebbef4a0",
   "metadata": {},
   "outputs": [],
   "source": [
    "dataframe = pandas.DataFrame(list(zip(titre, auteur, rates)), columns=['titre', 'auteur', 'rates'])"
   ]
  },
  {
   "cell_type": "code",
   "execution_count": 41,
   "id": "92b7a912",
   "metadata": {},
   "outputs": [
    {
     "data": {
      "text/html": [
       "<div>\n",
       "<style scoped>\n",
       "    .dataframe tbody tr th:only-of-type {\n",
       "        vertical-align: middle;\n",
       "    }\n",
       "\n",
       "    .dataframe tbody tr th {\n",
       "        vertical-align: top;\n",
       "    }\n",
       "\n",
       "    .dataframe thead th {\n",
       "        text-align: right;\n",
       "    }\n",
       "</style>\n",
       "<table border=\"1\" class=\"dataframe\">\n",
       "  <thead>\n",
       "    <tr style=\"text-align: right;\">\n",
       "      <th></th>\n",
       "      <th>titre</th>\n",
       "      <th>auteur</th>\n",
       "      <th>rates</th>\n",
       "    </tr>\n",
       "  </thead>\n",
       "  <tbody>\n",
       "    <tr>\n",
       "      <th>0</th>\n",
       "      <td>The Hunger Games (The Hunger Games, #1)</td>\n",
       "      <td>Suzanne Collins</td>\n",
       "      <td>4.32</td>\n",
       "    </tr>\n",
       "    <tr>\n",
       "      <th>1</th>\n",
       "      <td>Harry Potter and the Order of the Phoenix (Har...</td>\n",
       "      <td>J.K. Rowling</td>\n",
       "      <td>4.50</td>\n",
       "    </tr>\n",
       "    <tr>\n",
       "      <th>2</th>\n",
       "      <td>To Kill a Mockingbird</td>\n",
       "      <td>Harper Lee</td>\n",
       "      <td>4.27</td>\n",
       "    </tr>\n",
       "    <tr>\n",
       "      <th>3</th>\n",
       "      <td>Pride and Prejudice</td>\n",
       "      <td>Jane Austen</td>\n",
       "      <td>4.27</td>\n",
       "    </tr>\n",
       "    <tr>\n",
       "      <th>4</th>\n",
       "      <td>Twilight (The Twilight Saga, #1)</td>\n",
       "      <td>Stephenie Meyer</td>\n",
       "      <td>3.62</td>\n",
       "    </tr>\n",
       "    <tr>\n",
       "      <th>...</th>\n",
       "      <td>...</td>\n",
       "      <td>...</td>\n",
       "      <td>...</td>\n",
       "    </tr>\n",
       "    <tr>\n",
       "      <th>95</th>\n",
       "      <td>The Notebook (The Notebook, #1)</td>\n",
       "      <td>Nicholas Sparks</td>\n",
       "      <td>4.12</td>\n",
       "    </tr>\n",
       "    <tr>\n",
       "      <th>96</th>\n",
       "      <td>Winnie-the-Pooh (Winnie-the-Pooh, #1)</td>\n",
       "      <td>A.A. Milne</td>\n",
       "      <td>4.33</td>\n",
       "    </tr>\n",
       "    <tr>\n",
       "      <th>97</th>\n",
       "      <td>The Complete Stories and Poems</td>\n",
       "      <td>Edgar Allan Poe</td>\n",
       "      <td>4.37</td>\n",
       "    </tr>\n",
       "    <tr>\n",
       "      <th>98</th>\n",
       "      <td>Interview with the Vampire (The Vampire Chroni...</td>\n",
       "      <td>Anne Rice</td>\n",
       "      <td>4.01</td>\n",
       "    </tr>\n",
       "    <tr>\n",
       "      <th>99</th>\n",
       "      <td>A Prayer for Owen Meany</td>\n",
       "      <td>John Irving</td>\n",
       "      <td>4.23</td>\n",
       "    </tr>\n",
       "  </tbody>\n",
       "</table>\n",
       "<p>100 rows × 3 columns</p>\n",
       "</div>"
      ],
      "text/plain": [
       "                                                titre           auteur rates\n",
       "0             The Hunger Games (The Hunger Games, #1)  Suzanne Collins  4.32\n",
       "1   Harry Potter and the Order of the Phoenix (Har...     J.K. Rowling  4.50\n",
       "2                               To Kill a Mockingbird       Harper Lee  4.27\n",
       "3                                 Pride and Prejudice      Jane Austen  4.27\n",
       "4                    Twilight (The Twilight Saga, #1)  Stephenie Meyer  3.62\n",
       "..                                                ...              ...   ...\n",
       "95                    The Notebook (The Notebook, #1)  Nicholas Sparks  4.12\n",
       "96              Winnie-the-Pooh (Winnie-the-Pooh, #1)       A.A. Milne  4.33\n",
       "97                     The Complete Stories and Poems  Edgar Allan Poe  4.37\n",
       "98  Interview with the Vampire (The Vampire Chroni...        Anne Rice  4.01\n",
       "99                            A Prayer for Owen Meany      John Irving  4.23\n",
       "\n",
       "[100 rows x 3 columns]"
      ]
     },
     "execution_count": 41,
     "metadata": {},
     "output_type": "execute_result"
    }
   ],
   "source": [
    "dataframe"
   ]
  },
  {
   "cell_type": "code",
   "execution_count": 42,
   "id": "4ae379ab",
   "metadata": {},
   "outputs": [],
   "source": [
    "dataframe.to_csv('books.csv', index=False)"
   ]
  },
  {
   "cell_type": "markdown",
   "id": "636639d9",
   "metadata": {},
   "source": [
    "# Going forward\n",
    "\n",
    "Essayer de scrapper de la méme maniére la totalité des pages (100) qui chacune contiennent 100 livres\n",
    "Vous n'avez pas accés au javascript mais juste a des pages statiques"
   ]
  },
  {
   "cell_type": "markdown",
   "id": "b0871588",
   "metadata": {},
   "source": [
    "Le code présent sur ce notebook devra être retravailler pour ce faire"
   ]
  },
  {
   "cell_type": "code",
   "execution_count": null,
   "id": "1224b1a0",
   "metadata": {},
   "outputs": [],
   "source": []
  }
 ],
 "metadata": {
  "kernelspec": {
   "display_name": "Python 3 (ipykernel)",
   "language": "python",
   "name": "python3"
  },
  "language_info": {
   "codemirror_mode": {
    "name": "ipython",
    "version": 3
   },
   "file_extension": ".py",
   "mimetype": "text/x-python",
   "name": "python",
   "nbconvert_exporter": "python",
   "pygments_lexer": "ipython3",
   "version": "3.7.11"
  }
 },
 "nbformat": 4,
 "nbformat_minor": 5
}
